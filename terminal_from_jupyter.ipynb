{
 "cells": [
  {
   "cell_type": "code",
   "execution_count": 1,
   "id": "893e75a0",
   "metadata": {},
   "outputs": [
    {
     "name": "stdout",
     "output_type": "stream",
     "text": [
      "Collecting package metadata (current_repodata.json): done\n",
      "Solving environment: done\n",
      "\n",
      "\n",
      "==> WARNING: A newer version of conda exists. <==\n",
      "  current version: 4.11.0\n",
      "  latest version: 4.12.0\n",
      "\n",
      "Please update conda by running\n",
      "\n",
      "    $ conda update -n base -c defaults conda\n",
      "\n",
      "\n",
      "\n",
      "## Package Plan ##\n",
      "\n",
      "  environment location: /home/srihari/Desktop/sample/env\n",
      "\n",
      "  added / updated specs:\n",
      "    - seaborn\n",
      "\n",
      "\n",
      "The following packages will be downloaded:\n",
      "\n",
      "    package                    |            build\n",
      "    ---------------------------|-----------------\n",
      "    seaborn-0.11.2             |     pyhd3eb1b0_0         218 KB\n",
      "    ------------------------------------------------------------\n",
      "                                           Total:         218 KB\n",
      "\n",
      "The following NEW packages will be INSTALLED:\n",
      "\n",
      "  seaborn            pkgs/main/noarch::seaborn-0.11.2-pyhd3eb1b0_0\n",
      "\n",
      "\n",
      "\n",
      "Downloading and Extracting Packages\n",
      "seaborn-0.11.2       | 218 KB    | ##################################### | 100% \n",
      "Preparing transaction: done\n",
      "Verifying transaction: done\n",
      "Executing transaction: done\n"
     ]
    }
   ],
   "source": [
    "# # How install a conda package into the current envrionment from a Jupyter Notebook\n",
    "import sys\n",
    "!conda install --yes --prefix {sys.prefix} seaborn"
   ]
  },
  {
   "cell_type": "code",
   "execution_count": 2,
   "id": "caf27fca",
   "metadata": {},
   "outputs": [
    {
     "name": "stdout",
     "output_type": "stream",
     "text": [
      "Collecting package metadata (current_repodata.json): done\n",
      "Solving environment: done\n",
      "\n",
      "## Package Plan ##\n",
      "\n",
      "  environment location: /home/srihari/miniconda3\n",
      "\n",
      "  added / updated specs:\n",
      "    - conda\n",
      "\n",
      "\n",
      "The following packages will be downloaded:\n",
      "\n",
      "    package                    |            build\n",
      "    ---------------------------|-----------------\n",
      "    colorama-0.4.4             |     pyhd3eb1b0_0          21 KB\n",
      "    conda-4.12.0               |   py39h06a4308_0        14.5 MB\n",
      "    pyopenssl-22.0.0           |     pyhd3eb1b0_0          50 KB\n",
      "    tqdm-4.63.0                |     pyhd3eb1b0_0          84 KB\n",
      "    urllib3-1.26.8             |     pyhd3eb1b0_0         106 KB\n",
      "    ------------------------------------------------------------\n",
      "                                           Total:        14.7 MB\n",
      "\n",
      "The following NEW packages will be INSTALLED:\n",
      "\n",
      "  colorama           pkgs/main/noarch::colorama-0.4.4-pyhd3eb1b0_0\n",
      "\n",
      "The following packages will be REMOVED:\n",
      "\n",
      "  conda-content-trust-0.1.1-pyhd3eb1b0_0\n",
      "\n",
      "The following packages will be UPDATED:\n",
      "\n",
      "  ca-certificates                     2021.10.26-h06a4308_2 --> 2022.2.1-h06a4308_0\n",
      "  conda                               4.11.0-py39h06a4308_0 --> 4.12.0-py39h06a4308_0\n",
      "  pyopenssl                             21.0.0-pyhd3eb1b0_1 --> 22.0.0-pyhd3eb1b0_0\n",
      "  six                                   1.16.0-pyhd3eb1b0_0 --> 1.16.0-pyhd3eb1b0_1\n",
      "  sqlite                                  3.37.0-hc218d9a_0 --> 3.38.0-hc218d9a_0\n",
      "  tqdm                                  4.62.3-pyhd3eb1b0_1 --> 4.63.0-pyhd3eb1b0_0\n",
      "  urllib3                               1.26.7-pyhd3eb1b0_0 --> 1.26.8-pyhd3eb1b0_0\n",
      "\n",
      "\n",
      "Proceed ([y]/n)? ^C\n",
      "\n",
      "CondaSystemExit: \n",
      "Operation aborted.  Exiting.\n",
      "\n"
     ]
    }
   ],
   "source": [
    "!conda update -n base -c defaults conda"
   ]
  },
  {
   "cell_type": "code",
   "execution_count": 3,
   "id": "819bebc8",
   "metadata": {},
   "outputs": [
    {
     "ename": "NameError",
     "evalue": "name 'y' is not defined",
     "output_type": "error",
     "traceback": [
      "\u001b[0;31m---------------------------------------------------------------------------\u001b[0m",
      "\u001b[0;31mNameError\u001b[0m                                 Traceback (most recent call last)",
      "Input \u001b[0;32mIn [3]\u001b[0m, in \u001b[0;36m<cell line: 1>\u001b[0;34m()\u001b[0m\n\u001b[0;32m----> 1\u001b[0m \u001b[43my\u001b[49m\n",
      "\u001b[0;31mNameError\u001b[0m: name 'y' is not defined"
     ]
    }
   ],
   "source": [
    "y"
   ]
  },
  {
   "cell_type": "code",
   "execution_count": null,
   "id": "e2eb368f",
   "metadata": {},
   "outputs": [],
   "source": []
  }
 ],
 "metadata": {
  "kernelspec": {
   "display_name": "Python 3 (ipykernel)",
   "language": "python",
   "name": "python3"
  },
  "language_info": {
   "codemirror_mode": {
    "name": "ipython",
    "version": 3
   },
   "file_extension": ".py",
   "mimetype": "text/x-python",
   "name": "python",
   "nbconvert_exporter": "python",
   "pygments_lexer": "ipython3",
   "version": "3.9.7"
  }
 },
 "nbformat": 4,
 "nbformat_minor": 5
}
