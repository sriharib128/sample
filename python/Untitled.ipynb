{
 "cells": [
  {
   "cell_type": "code",
   "execution_count": null,
   "id": "4f1b3161",
   "metadata": {},
   "outputs": [],
   "source": [
    "with open(\"untitled.txt\") as f:\n",
    "    fish = [int(x) for x in f.read().strip().split(\",\")]\n",
    "    #                    OR\n",
    "    Fish = list(map(int,f.read().strip().split(\",\")))\n",
    "    print(f.read().strip())"
   ]
  },
  {
   "cell_type": "code",
   "execution_count": 8,
   "id": "7c2afde0",
   "metadata": {},
   "outputs": [
    {
     "data": {
      "text/plain": [
       "['2,5,3,4,4,5,3,2,3,3,2,2,4,2,5,4,1,1,4,4,5,1,2,1,5,2,1,5,1,1,1,2,4,3,3,1,4,2,3,4,5,1,2,5,1,2,2,5,2,4,4,1,4,5,4,2,1,5,5,3,2,1,3,2,1,4,2,5,5,5,2,3,3,5,1,1,5,3,4,2,1,4,4,5,4,5,3,1,4,5,1,5,3,5,4,4,4,1,4,2,2,2,5,4,3,1,4,4,3,4,2,1,1,5,3,3,2,5,3,1,2,2,4,1,4,1,5,1,1,2,5,2,2,5,2,4,4,3,4,1,3,3,5,4,5,4,5,5,5,5,5,4,4,5,3,4,3,3,1,1,5,2,4,5,5,1,5,2,4,5,4,2,4,4,4,2,2,2,2,2,3,5,3,1,1,2,1,1,5,1,4,3,4,2,5,3,4,4,3,5,5,5,4,1,3,4,4,2,2,1,4,1,2,1,2,1,5,5,3,4,1,3,2,1,4,5,1,5,5,1,2,3,4,2,1,4,1,4,2,3,3,2,4,1,4,1,4,4,1,5,3,1,5,2,1,1,2,3,3,2,4,1,2,1,5,1,1,2,1,2,1,2,4,5,3,5,5,1,3,4,1,1,3,3,2,2,4,3,1,1,2,4,1,1,1,5,4,2,4,3',\n",
       " '50000',\n",
       " '',\n",
       " '500']"
      ]
     },
     "execution_count": 8,
     "metadata": {},
     "output_type": "execute_result"
    }
   ],
   "source": [
    "file = open('untitled.txt', 'r')\n",
    "a=[]\n",
    "a = [str(x) for x in file.read().strip().split('\\n')]\n",
    "a\n",
    "# b= [int(x) for x in a[0].split(',')]\n",
    "# b"
   ]
  },
  {
   "cell_type": "code",
   "execution_count": 9,
   "id": "14d4a0a8",
   "metadata": {},
   "outputs": [
    {
     "name": "stdout",
     "output_type": "stream",
     "text": [
      "defaultdict(<class 'int'>, {})\n",
      "defaultdict(<class 'int'>, {1: 0})\n"
     ]
    },
    {
     "data": {
      "text/plain": [
       "dict_items([(1, 0)])"
      ]
     },
     "execution_count": 9,
     "metadata": {},
     "output_type": "execute_result"
    }
   ],
   "source": [
    "from collections import defaultdict\n",
    "x = defaultdict(int)\n",
    "print(x)\n",
    "x[1] = 0\n",
    "print(x)\n",
    "x.items()"
   ]
  },
  {
   "cell_type": "code",
   "execution_count": null,
   "id": "e12ac40b",
   "metadata": {},
   "outputs": [],
   "source": []
  }
 ],
 "metadata": {
  "kernelspec": {
   "display_name": "Python 3 (ipykernel)",
   "language": "python",
   "name": "python3"
  },
  "language_info": {
   "codemirror_mode": {
    "name": "ipython",
    "version": 3
   },
   "file_extension": ".py",
   "mimetype": "text/x-python",
   "name": "python",
   "nbconvert_exporter": "python",
   "pygments_lexer": "ipython3",
   "version": "3.9.7"
  }
 },
 "nbformat": 4,
 "nbformat_minor": 5
}
