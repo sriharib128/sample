{
 "cells": [
  {
   "cell_type": "code",
   "execution_count": 1,
   "id": "7b30d648",
   "metadata": {},
   "outputs": [],
   "source": [
    "from collections import defaultdict"
   ]
  },
  {
   "cell_type": "code",
   "execution_count": 2,
   "id": "0838a4e7",
   "metadata": {},
   "outputs": [
    {
     "data": {
      "text/plain": [
       "'cbdgef cdfageb cegbd fecba edgf dcfbe dbcafg df fcd dbegca | bgcdef dgbec bfeac fdeg'"
      ]
     },
     "execution_count": 2,
     "metadata": {},
     "output_type": "execute_result"
    }
   ],
   "source": [
    "file = open('untitled.txt', 'r')\n",
    "line= [x for x in file.read().strip().split('\\n')]\n",
    "line[1]\n"
   ]
  },
  {
   "cell_type": "code",
   "execution_count": 3,
   "id": "a77145b6",
   "metadata": {},
   "outputs": [
    {
     "data": {
      "text/plain": [
       "['cbdgef cdfageb cegbd fecba edgf dcfbe dbcafg df fcd dbegca',\n",
       " 'bgcdef dgbec bfeac fdeg']"
      ]
     },
     "execution_count": 3,
     "metadata": {},
     "output_type": "execute_result"
    }
   ],
   "source": [
    "a=[]\n",
    "for i in range(0,200):\n",
    "    a.append([x for x in line[i].split(' | ')])\n",
    "a[1]"
   ]
  },
  {
   "cell_type": "code",
   "execution_count": 4,
   "id": "a042bf1d",
   "metadata": {},
   "outputs": [
    {
     "data": {
      "text/plain": [
       "['bgcdef', 'dgbec', 'bfeac', 'fdeg']"
      ]
     },
     "execution_count": 4,
     "metadata": {},
     "output_type": "execute_result"
    }
   ],
   "source": [
    "# Extracting 4 outputs of each day into a list of lists\n",
    "o=[]\n",
    "for i in range(0,200):\n",
    "      o.append(list([x for x in a[i][1].split(' ')]))\n",
    "o[1]"
   ]
  },
  {
   "cell_type": "markdown",
   "id": "e1e05635",
   "metadata": {},
   "source": [
    "### PUZZLE 1"
   ]
  },
  {
   "cell_type": "code",
   "execution_count": 5,
   "id": "b1ef3fae",
   "metadata": {},
   "outputs": [
    {
     "data": {
      "text/plain": [
       "defaultdict(int, {2: 130, 3: 118, 7: 134, 5: 159, 6: 153, 4: 106})"
      ]
     },
     "execution_count": 5,
     "metadata": {},
     "output_type": "execute_result"
    }
   ],
   "source": [
    "b = defaultdict(int)\n",
    "for i in range (0,200):\n",
    "    for c in range(0,4):\n",
    "        b[len(o[i][c])] +=1\n",
    "b    "
   ]
  },
  {
   "cell_type": "markdown",
   "id": "9e4371e4",
   "metadata": {},
   "source": [
    "### PUZZLE 2"
   ]
  },
  {
   "cell_type": "code",
   "execution_count": 6,
   "id": "309baf9f",
   "metadata": {},
   "outputs": [
    {
     "data": {
      "text/plain": [
       "(200,\n",
       " ['cbdgef',\n",
       "  'cdfageb',\n",
       "  'cegbd',\n",
       "  'fecba',\n",
       "  'edgf',\n",
       "  'dcfbe',\n",
       "  'dbcafg',\n",
       "  'df',\n",
       "  'fcd',\n",
       "  'dbegca'])"
      ]
     },
     "execution_count": 6,
     "metadata": {},
     "output_type": "execute_result"
    }
   ],
   "source": [
    "# Extracting 10 inputs of each day into a list of list\n",
    "r=[]\n",
    "for i in range (0,200):\n",
    "    r.append(list([x for x in a[i][0].split(' ')]))\n",
    "len(r),r[1]"
   ]
  },
  {
   "cell_type": "code",
   "execution_count": 7,
   "id": "9aef5ae9",
   "metadata": {},
   "outputs": [],
   "source": [
    "def char_in(c_1,c_2):\n",
    "    c1=[]\n",
    "    c2=[]\n",
    "    \n",
    "    \n",
    "    for i in range(0,len(c_1)):\n",
    "        c1.append(c_1[i])\n",
    "    for i in range(0,len(c_1)):\n",
    "        c2.append(c_2[i])\n",
    "    c=0\n",
    "    for i in range(0,len(c_1)):\n",
    "        if (c_1[i] in c_2):\n",
    "            c+=1\n",
    "    if(c==len(c_1)):\n",
    "        return True \n",
    "    else:\n",
    "        return False    "
   ]
  },
  {
   "cell_type": "code",
   "execution_count": 8,
   "id": "83da9065",
   "metadata": {},
   "outputs": [
    {
     "name": "stdout",
     "output_type": "stream",
     "text": [
      "1040429\n"
     ]
    }
   ],
   "source": [
    "g=0\n",
    "for j in range (0,200):\n",
    "    \n",
    "    b= defaultdict(int)\n",
    "    for i in range(0,10):\n",
    "        b[len(r[j][i])] = r[j][i]    \n",
    "    w=b.copy()\n",
    "\n",
    "# 6 Segment Numbers\n",
    "    for i in range(0,10):\n",
    "        if (len(r[j][i]) == 6):\n",
    "            # Cheking if 7 is not there in 6\n",
    "            if (char_in (b[3],r[j][i]) == False):\n",
    "                w[6] = r[j][i]\n",
    "            # Checking if 4 is there in 9\n",
    "            elif (char_in (b[4],r[j][i])):\n",
    "                  w[9] = r[j][i]\n",
    "            #Remaining 6 segmented number is 0\n",
    "            else:              \n",
    "                  w[0] = r[j][i]\n",
    "                    \n",
    "# 5 Segment Numbers\n",
    "    for i in range(0,10):\n",
    "        if (len(r[j][i]) == 5):\n",
    "            # Checking if 1 is there in 3\n",
    "            if (char_in (b[2],r[j][i])):\n",
    "                  w[3] = r[j][i]\n",
    "            # Checking if 5 is there in 6 ==> reverse of what we checked till now\n",
    "            elif (char_in (r[j][i],w[6])):\n",
    "                  w[5] = r[j][i]\n",
    "            # Remaining 5 segmented number is 2\n",
    "            else:\n",
    "                  w[2] = r[j][i]\n",
    "    w[1] = b[2]\n",
    "    w[4] = b[4]\n",
    "    w[7] = b[3]\n",
    "    w[8] = b[7] \n",
    "    \n",
    "    # Reversing the key and values of the list\n",
    "    y = {v:k for k,v in w.items()}\n",
    "    \n",
    "    # Finding the 4 digit-output value by using each of the 4 outputs as each digit\n",
    "    s=''\n",
    "    for i in range(0,4):\n",
    "        for t in range(0,10):\n",
    "            if (len(o[j][i])==len(w[t])):            \n",
    "                if ( char_in  ( o[j][i] ,  w[t] )  ): \n",
    "                    s+=str( y [ w[t] ] )\n",
    "    g+=int(s)\n",
    "#     print(s,g)\n",
    "print(g)"
   ]
  },
  {
   "cell_type": "code",
   "execution_count": null,
   "id": "1ddb08bb",
   "metadata": {},
   "outputs": [],
   "source": []
  }
 ],
 "metadata": {
  "kernelspec": {
   "display_name": "Python 3 (ipykernel)",
   "language": "python",
   "name": "python3"
  },
  "language_info": {
   "codemirror_mode": {
    "name": "ipython",
    "version": 3
   },
   "file_extension": ".py",
   "mimetype": "text/x-python",
   "name": "python",
   "nbconvert_exporter": "python",
   "pygments_lexer": "ipython3",
   "version": "3.9.7"
  }
 },
 "nbformat": 4,
 "nbformat_minor": 5
}
