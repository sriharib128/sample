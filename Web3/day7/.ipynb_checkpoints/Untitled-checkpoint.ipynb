{
 "cells": [
  {
   "cell_type": "code",
   "execution_count": 1,
   "id": "b967b363",
   "metadata": {},
   "outputs": [],
   "source": [
    "import pandas as pd\n",
    "import numpy as np\n",
    "%matplotlib inline\n",
    "import matplotlib.pyplot as plt"
   ]
  },
  {
   "cell_type": "code",
   "execution_count": 2,
   "id": "0838a4e7",
   "metadata": {},
   "outputs": [
    {
     "data": {
      "text/plain": [
       "1000"
      ]
     },
     "execution_count": 2,
     "metadata": {},
     "output_type": "execute_result"
    }
   ],
   "source": [
    "file = open('untitled.txt', 'r')\n",
    "a = [int(x) for x in file.read().strip().split(',')]\n",
    "len(a)\n"
   ]
  },
  {
   "cell_type": "code",
   "execution_count": 3,
   "id": "8139cb41",
   "metadata": {},
   "outputs": [],
   "source": [
    "crab = pd.DataFrame({'h_p':a})"
   ]
  },
  {
   "cell_type": "markdown",
   "id": "9c7bf5e2",
   "metadata": {},
   "source": [
    "## Part 1"
   ]
  },
  {
   "cell_type": "code",
   "execution_count": 4,
   "id": "0ae7365b",
   "metadata": {},
   "outputs": [],
   "source": [
    "c=[]\n",
    "q=0\n",
    "for b in a:\n",
    "    q=0\n",
    "    for i in range (0,1000):\n",
    "        \n",
    "        if (crab[\"h_p\"][i]<=b):\n",
    "            q+= (b-crab[\"h_p\"][i])\n",
    "        else:\n",
    "            q+= (crab[\"h_p\"][i]-b)\n",
    "    c.append(q)"
   ]
  },
  {
   "cell_type": "code",
   "execution_count": 5,
   "id": "02d527c0",
   "metadata": {},
   "outputs": [
    {
     "data": {
      "text/plain": [
       "89"
      ]
     },
     "execution_count": 5,
     "metadata": {},
     "output_type": "execute_result"
    }
   ],
   "source": [
    "c.index(min(c))"
   ]
  },
  {
   "cell_type": "code",
   "execution_count": 6,
   "id": "9459203a",
   "metadata": {},
   "outputs": [
    {
     "data": {
      "text/plain": [
       "337488"
      ]
     },
     "execution_count": 6,
     "metadata": {},
     "output_type": "execute_result"
    }
   ],
   "source": [
    "min(c)"
   ]
  },
  {
   "cell_type": "markdown",
   "id": "ab7ad83f",
   "metadata": {},
   "source": [
    "## part 2"
   ]
  },
  {
   "cell_type": "code",
   "execution_count": 7,
   "id": "5aa87fb4",
   "metadata": {},
   "outputs": [],
   "source": [
    "c=[]\n",
    "q=0\n",
    "for b in a:\n",
    "    q=0\n",
    "    for i in range (0,1000):\n",
    "        \n",
    "        if (crab[\"h_p\"][i]<=b):\n",
    "            q+= (b-crab[\"h_p\"][i])*((b-crab[\"h_p\"][i])+1)/2\n",
    "        else:\n",
    "            q+= (crab[\"h_p\"][i]-b)*((crab[\"h_p\"][i]-b)+1)/2\n",
    "    c.append(q)"
   ]
  },
  {
   "cell_type": "code",
   "execution_count": 8,
   "id": "40e3eb49",
   "metadata": {},
   "outputs": [
    {
     "data": {
      "text/plain": [
       "89647695.0"
      ]
     },
     "execution_count": 8,
     "metadata": {},
     "output_type": "execute_result"
    }
   ],
   "source": [
    "min(c)"
   ]
  },
  {
   "cell_type": "code",
   "execution_count": 9,
   "id": "7b01b524",
   "metadata": {},
   "outputs": [
    {
     "data": {
      "text/plain": [
       "221"
      ]
     },
     "execution_count": 9,
     "metadata": {},
     "output_type": "execute_result"
    }
   ],
   "source": [
    "c.index(89647695)"
   ]
  },
  {
   "cell_type": "code",
   "execution_count": null,
   "id": "844f119f",
   "metadata": {},
   "outputs": [],
   "source": []
  }
 ],
 "metadata": {
  "kernelspec": {
   "display_name": "Python 3 (ipykernel)",
   "language": "python",
   "name": "python3"
  },
  "language_info": {
   "codemirror_mode": {
    "name": "ipython",
    "version": 3
   },
   "file_extension": ".py",
   "mimetype": "text/x-python",
   "name": "python",
   "nbconvert_exporter": "python",
   "pygments_lexer": "ipython3",
   "version": "3.9.7"
  }
 },
 "nbformat": 4,
 "nbformat_minor": 5
}
