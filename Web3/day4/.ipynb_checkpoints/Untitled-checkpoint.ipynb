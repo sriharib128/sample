{
 "cells": [
  {
   "cell_type": "code",
   "execution_count": 1,
   "id": "77a3a003",
   "metadata": {},
   "outputs": [],
   "source": [
    "import pandas as pd\n",
    "import numpy as np"
   ]
  },
  {
   "cell_type": "markdown",
   "id": "2d3ce0ff",
   "metadata": {},
   "source": [
    "## Preparing the data"
   ]
  },
  {
   "cell_type": "code",
   "execution_count": 2,
   "id": "24b13cce",
   "metadata": {},
   "outputs": [],
   "source": [
    "input_data = pd.read_csv(\"untitled.csv\")"
   ]
  },
  {
   "cell_type": "code",
   "execution_count": 3,
   "id": "e370d8ec",
   "metadata": {},
   "outputs": [
    {
     "data": {
      "text/html": [
       "<div>\n",
       "<style scoped>\n",
       "    .dataframe tbody tr th:only-of-type {\n",
       "        vertical-align: middle;\n",
       "    }\n",
       "\n",
       "    .dataframe tbody tr th {\n",
       "        vertical-align: top;\n",
       "    }\n",
       "\n",
       "    .dataframe thead th {\n",
       "        text-align: right;\n",
       "    }\n",
       "</style>\n",
       "<table border=\"1\" class=\"dataframe\">\n",
       "  <thead>\n",
       "    <tr style=\"text-align: right;\">\n",
       "      <th></th>\n",
       "      <th>a</th>\n",
       "      <th>b</th>\n",
       "      <th>c</th>\n",
       "      <th>d</th>\n",
       "      <th>e</th>\n",
       "      <th>f</th>\n",
       "    </tr>\n",
       "  </thead>\n",
       "  <tbody>\n",
       "    <tr>\n",
       "      <th>0</th>\n",
       "      <td>34.0</td>\n",
       "      <td>90</td>\n",
       "      <td>18</td>\n",
       "      <td>33</td>\n",
       "      <td>83</td>\n",
       "      <td>NaN</td>\n",
       "    </tr>\n",
       "    <tr>\n",
       "      <th>1</th>\n",
       "      <td>27.0</td>\n",
       "      <td>7</td>\n",
       "      <td>25</td>\n",
       "      <td>61</td>\n",
       "      <td>15</td>\n",
       "      <td>NaN</td>\n",
       "    </tr>\n",
       "    <tr>\n",
       "      <th>2</th>\n",
       "      <td>43.0</td>\n",
       "      <td>5</td>\n",
       "      <td>51</td>\n",
       "      <td>32</td>\n",
       "      <td>45</td>\n",
       "      <td>NaN</td>\n",
       "    </tr>\n",
       "    <tr>\n",
       "      <th>3</th>\n",
       "      <td>24.0</td>\n",
       "      <td>17</td>\n",
       "      <td>72</td>\n",
       "      <td>31</td>\n",
       "      <td>22</td>\n",
       "      <td>NaN</td>\n",
       "    </tr>\n",
       "    <tr>\n",
       "      <th>4</th>\n",
       "      <td>77.0</td>\n",
       "      <td>46</td>\n",
       "      <td>78</td>\n",
       "      <td>16</td>\n",
       "      <td>9</td>\n",
       "      <td>NaN</td>\n",
       "    </tr>\n",
       "    <tr>\n",
       "      <th>...</th>\n",
       "      <td>...</td>\n",
       "      <td>...</td>\n",
       "      <td>...</td>\n",
       "      <td>...</td>\n",
       "      <td>...</td>\n",
       "      <td>...</td>\n",
       "    </tr>\n",
       "    <tr>\n",
       "      <th>495</th>\n",
       "      <td>96.0</td>\n",
       "      <td>55</td>\n",
       "      <td>84</td>\n",
       "      <td>44</td>\n",
       "      <td>10</td>\n",
       "      <td>NaN</td>\n",
       "    </tr>\n",
       "    <tr>\n",
       "      <th>496</th>\n",
       "      <td>57.0</td>\n",
       "      <td>80</td>\n",
       "      <td>30</td>\n",
       "      <td>52</td>\n",
       "      <td>72</td>\n",
       "      <td>NaN</td>\n",
       "    </tr>\n",
       "    <tr>\n",
       "      <th>497</th>\n",
       "      <td>42.0</td>\n",
       "      <td>40</td>\n",
       "      <td>36</td>\n",
       "      <td>41</td>\n",
       "      <td>73</td>\n",
       "      <td>NaN</td>\n",
       "    </tr>\n",
       "    <tr>\n",
       "      <th>498</th>\n",
       "      <td>85.0</td>\n",
       "      <td>38</td>\n",
       "      <td>64</td>\n",
       "      <td>63</td>\n",
       "      <td>13</td>\n",
       "      <td>NaN</td>\n",
       "    </tr>\n",
       "    <tr>\n",
       "      <th>499</th>\n",
       "      <td>47.0</td>\n",
       "      <td>16</td>\n",
       "      <td>8</td>\n",
       "      <td>76</td>\n",
       "      <td>94</td>\n",
       "      <td>NaN</td>\n",
       "    </tr>\n",
       "  </tbody>\n",
       "</table>\n",
       "<p>500 rows × 6 columns</p>\n",
       "</div>"
      ],
      "text/plain": [
       "        a   b   c   d   e   f\n",
       "0    34.0  90  18  33  83 NaN\n",
       "1    27.0   7  25  61  15 NaN\n",
       "2    43.0   5  51  32  45 NaN\n",
       "3    24.0  17  72  31  22 NaN\n",
       "4    77.0  46  78  16   9 NaN\n",
       "..    ...  ..  ..  ..  ..  ..\n",
       "495  96.0  55  84  44  10 NaN\n",
       "496  57.0  80  30  52  72 NaN\n",
       "497  42.0  40  36  41  73 NaN\n",
       "498  85.0  38  64  63  13 NaN\n",
       "499  47.0  16   8  76  94 NaN\n",
       "\n",
       "[500 rows x 6 columns]"
      ]
     },
     "execution_count": 3,
     "metadata": {},
     "output_type": "execute_result"
    }
   ],
   "source": [
    "input_data"
   ]
  },
  {
   "cell_type": "code",
   "execution_count": 4,
   "id": "b4e6ea6e",
   "metadata": {},
   "outputs": [
    {
     "name": "stdout",
     "output_type": "stream",
     "text": [
      "<class 'pandas.core.frame.DataFrame'>\n",
      "RangeIndex: 500 entries, 0 to 499\n",
      "Data columns (total 6 columns):\n",
      " #   Column  Non-Null Count  Dtype  \n",
      "---  ------  --------------  -----  \n",
      " 0   a       453 non-null    float64\n",
      " 1   b       500 non-null    int64  \n",
      " 2   c       500 non-null    int64  \n",
      " 3   d       500 non-null    int64  \n",
      " 4   e       500 non-null    int64  \n",
      " 5   f       47 non-null     float64\n",
      "dtypes: float64(2), int64(4)\n",
      "memory usage: 23.6 KB\n"
     ]
    }
   ],
   "source": [
    "input_data.info()"
   ]
  },
  {
   "cell_type": "code",
   "execution_count": 5,
   "id": "2f8ae104",
   "metadata": {},
   "outputs": [],
   "source": [
    "input_data.fillna(200,inplace = True)"
   ]
  },
  {
   "cell_type": "code",
   "execution_count": 6,
   "id": "8e2a8a8e",
   "metadata": {
    "scrolled": true
   },
   "outputs": [
    {
     "name": "stdout",
     "output_type": "stream",
     "text": [
      "<class 'pandas.core.frame.DataFrame'>\n",
      "RangeIndex: 500 entries, 0 to 499\n",
      "Data columns (total 6 columns):\n",
      " #   Column  Non-Null Count  Dtype  \n",
      "---  ------  --------------  -----  \n",
      " 0   a       500 non-null    float64\n",
      " 1   b       500 non-null    int64  \n",
      " 2   c       500 non-null    int64  \n",
      " 3   d       500 non-null    int64  \n",
      " 4   e       500 non-null    int64  \n",
      " 5   f       500 non-null    float64\n",
      "dtypes: float64(2), int64(4)\n",
      "memory usage: 23.6 KB\n"
     ]
    }
   ],
   "source": [
    "input_data.info()"
   ]
  },
  {
   "cell_type": "code",
   "execution_count": 7,
   "id": "f1a37f3f",
   "metadata": {},
   "outputs": [],
   "source": [
    "b=np.random.randint(0, 1, size=(100,5,5))"
   ]
  },
  {
   "cell_type": "code",
   "execution_count": 8,
   "id": "cfd32aff",
   "metadata": {},
   "outputs": [
    {
     "data": {
      "text/plain": [
       "Index(['a', 'b', 'c', 'd', 'e', 'f'], dtype='object')"
      ]
     },
     "execution_count": 8,
     "metadata": {},
     "output_type": "execute_result"
    }
   ],
   "source": [
    "input_data.columns"
   ]
  },
  {
   "cell_type": "code",
   "execution_count": 9,
   "id": "1e354d63",
   "metadata": {},
   "outputs": [
    {
     "name": "stderr",
     "output_type": "stream",
     "text": [
      "/tmp/ipykernel_69277/2019060881.py:10: SettingWithCopyWarning: \n",
      "A value is trying to be set on a copy of a slice from a DataFrame\n",
      "\n",
      "See the caveats in the documentation: https://pandas.pydata.org/pandas-docs/stable/user_guide/indexing.html#returning-a-view-versus-a-copy\n",
      "  input_data[chr(y)][i] = input_data[chr(y+1)][i]\n"
     ]
    }
   ],
   "source": [
    "# removing the null object and moving  one column right in those rows where we filled 200 inplace of null\n",
    "x=ord('a')\n",
    "for d in range(0,6):\n",
    "    \n",
    "    for i in range(0,500):\n",
    "\n",
    "        if (input_data[chr(x)][i]==200):\n",
    "            y=x\n",
    "            for g in range(y,ord('f')):\n",
    "                input_data[chr(y)][i] = input_data[chr(y+1)][i]\n",
    "                y+=1\n",
    "    x+=1"
   ]
  },
  {
   "cell_type": "code",
   "execution_count": 10,
   "id": "7f008803",
   "metadata": {},
   "outputs": [
    {
     "name": "stdout",
     "output_type": "stream",
     "text": [
      "<class 'pandas.core.frame.DataFrame'>\n",
      "RangeIndex: 500 entries, 0 to 499\n",
      "Data columns (total 6 columns):\n",
      " #   Column  Non-Null Count  Dtype  \n",
      "---  ------  --------------  -----  \n",
      " 0   a       500 non-null    float64\n",
      " 1   b       500 non-null    int64  \n",
      " 2   c       500 non-null    int64  \n",
      " 3   d       500 non-null    int64  \n",
      " 4   e       500 non-null    int64  \n",
      " 5   f       500 non-null    float64\n",
      "dtypes: float64(2), int64(4)\n",
      "memory usage: 23.6 KB\n"
     ]
    }
   ],
   "source": [
    "input_data.info()"
   ]
  },
  {
   "cell_type": "code",
   "execution_count": 11,
   "id": "83eda895",
   "metadata": {},
   "outputs": [],
   "source": [
    "input_data.drop('f',axis=1,inplace=True)\n"
   ]
  },
  {
   "cell_type": "code",
   "execution_count": 12,
   "id": "c6faf265",
   "metadata": {},
   "outputs": [],
   "source": [
    "# Preparing an array of 100 matrix(bingo boards) from the input data we cleaned\n",
    "a1=-1\n",
    "i=0\n",
    "for t in range(0,100):\n",
    "    \n",
    "    if (i%5 == 0):\n",
    "        a1 += 1\n",
    "        \n",
    "    for a2 in range(0,5):\n",
    "        x=ord('a')\n",
    "        \n",
    "        for a3 in range(0,5):\n",
    "            b[a1][a2][a3] = int(input_data[chr(x)][i])\n",
    "            x+=1\n",
    "        i+=1\n",
    "                            "
   ]
  },
  {
   "cell_type": "code",
   "execution_count": 13,
   "id": "56c01949",
   "metadata": {},
   "outputs": [
    {
     "data": {
      "text/plain": [
       "array([[[34, 90, 18, 33, 83],\n",
       "        [27,  7, 25, 61, 15],\n",
       "        [43,  5, 51, 32, 45],\n",
       "        [24, 17, 72, 31, 22],\n",
       "        [77, 46, 78, 16,  9]],\n",
       "\n",
       "       [[72, 95, 37, 52, 68],\n",
       "        [80,  1, 73, 96, 63],\n",
       "        [16, 49,  9, 42, 97],\n",
       "        [25, 81, 20, 11, 46],\n",
       "        [31, 24,  2, 34, 18]],\n",
       "\n",
       "       [[88, 29, 95, 98, 57],\n",
       "        [49, 36,  6, 23, 83],\n",
       "        [18,  5, 45, 40, 44],\n",
       "        [62, 81, 74, 99, 87],\n",
       "        [46, 56, 35, 21, 52]],\n",
       "\n",
       "       ...,\n",
       "\n",
       "       [[71, 77, 24, 72, 43],\n",
       "        [41, 38, 62, 21, 36],\n",
       "        [70, 10, 37, 60, 83],\n",
       "        [79, 94, 39,  0, 51],\n",
       "        [73, 46, 98, 34, 50]],\n",
       "\n",
       "       [[96, 26, 95, 48, 17],\n",
       "        [97, 40, 42, 53, 35],\n",
       "        [74, 67, 47, 22, 23],\n",
       "        [14, 70, 54,  8, 66],\n",
       "        [52, 31, 63, 34,  1]],\n",
       "\n",
       "       [[96, 55, 84, 44, 10],\n",
       "        [57, 80, 30, 52, 72],\n",
       "        [42, 40, 36, 41, 73],\n",
       "        [85, 38, 64, 63, 13],\n",
       "        [47, 16,  8, 76, 94]]])"
      ]
     },
     "execution_count": 13,
     "metadata": {},
     "output_type": "execute_result"
    }
   ],
   "source": [
    "b"
   ]
  },
  {
   "cell_type": "code",
   "execution_count": 14,
   "id": "3a7d2887",
   "metadata": {},
   "outputs": [],
   "source": [
    "draw=[4,77,78,12,91,82,48,59,28,26,34,10,71,89,54,63,66,75,15,22,39,55,83,47,81,74,2,46,25,98,29,21,85,96,3,16,60,31,99,86,52,17,69,27,73,49,95,35,9,53,64,88,37,72,92,70,5,65,79,61,38,14,7,44,43,8,42,45,23,41,57,80,51,90,84,11,93,40,50,33,56,67,68,32,6,94,97,13,87,30,18,76,36,24,19,20,1,0,58,62]"
   ]
  },
  {
   "cell_type": "code",
   "execution_count": 15,
   "id": "f366841d",
   "metadata": {},
   "outputs": [
    {
     "data": {
      "text/plain": [
       "int"
      ]
     },
     "execution_count": 15,
     "metadata": {},
     "output_type": "execute_result"
    }
   ],
   "source": [
    "type(draw[1])"
   ]
  },
  {
   "cell_type": "code",
   "execution_count": 16,
   "id": "c4f0239a",
   "metadata": {},
   "outputs": [],
   "source": [
    "b_copy = b.copy()"
   ]
  },
  {
   "cell_type": "code",
   "execution_count": 17,
   "id": "e9681fdf",
   "metadata": {},
   "outputs": [
    {
     "data": {
      "text/plain": [
       "array([[[34, 90, 18, 33, 83],\n",
       "        [27,  7, 25, 61, 15],\n",
       "        [43,  5, 51, 32, 45],\n",
       "        [24, 17, 72, 31, 22],\n",
       "        [77, 46, 78, 16,  9]],\n",
       "\n",
       "       [[72, 95, 37, 52, 68],\n",
       "        [80,  1, 73, 96, 63],\n",
       "        [16, 49,  9, 42, 97],\n",
       "        [25, 81, 20, 11, 46],\n",
       "        [31, 24,  2, 34, 18]],\n",
       "\n",
       "       [[88, 29, 95, 98, 57],\n",
       "        [49, 36,  6, 23, 83],\n",
       "        [18,  5, 45, 40, 44],\n",
       "        [62, 81, 74, 99, 87],\n",
       "        [46, 56, 35, 21, 52]],\n",
       "\n",
       "       ...,\n",
       "\n",
       "       [[71, 77, 24, 72, 43],\n",
       "        [41, 38, 62, 21, 36],\n",
       "        [70, 10, 37, 60, 83],\n",
       "        [79, 94, 39,  0, 51],\n",
       "        [73, 46, 98, 34, 50]],\n",
       "\n",
       "       [[96, 26, 95, 48, 17],\n",
       "        [97, 40, 42, 53, 35],\n",
       "        [74, 67, 47, 22, 23],\n",
       "        [14, 70, 54,  8, 66],\n",
       "        [52, 31, 63, 34,  1]],\n",
       "\n",
       "       [[96, 55, 84, 44, 10],\n",
       "        [57, 80, 30, 52, 72],\n",
       "        [42, 40, 36, 41, 73],\n",
       "        [85, 38, 64, 63, 13],\n",
       "        [47, 16,  8, 76, 94]]])"
      ]
     },
     "execution_count": 17,
     "metadata": {},
     "output_type": "execute_result"
    }
   ],
   "source": [
    "b_copy"
   ]
  },
  {
   "cell_type": "markdown",
   "id": "a0ab7393",
   "metadata": {},
   "source": [
    "# Solving puzzle 1"
   ]
  },
  {
   "cell_type": "markdown",
   "id": "955f55d1",
   "metadata": {},
   "source": [
    "#### Marking the matrix by making it 100"
   ]
  },
  {
   "cell_type": "code",
   "execution_count": 18,
   "id": "094ad061",
   "metadata": {
    "scrolled": false
   },
   "outputs": [
    {
     "name": "stdout",
     "output_type": "stream",
     "text": [
      "c\n",
      " [[ 64 100  20 100 100]\n",
      " [ 46 100 100  69  41]\n",
      " [ 44 100  73  35  61]\n",
      " [ 99 100 100  43  72]\n",
      " [ 76 100  93  23   0]] 46 24 81\n"
     ]
    }
   ],
   "source": [
    "b_copy = b.copy()\n",
    "for l in range(0,100):    \n",
    "    for i in range(0,100):\n",
    "        for t in range(0,5):            \n",
    "            for u in range(0,5):\n",
    "                if (b_copy[i][t][u] == draw[l]):\n",
    "#                     print(b_copy[i][t][u],draw[l] ,l , i)\n",
    "                    b_copy[i][t][u] = 100                    \n",
    "#                     print(b_copy[i][t][u],draw[l] ,l , i)\n",
    "    r=False  \n",
    "    c=False\n",
    "    for i in range (0,100):\n",
    "        for t in range (0,5):\n",
    "            b_sum = 0\n",
    "            for u in range (0,5):\n",
    "                b_sum += b_copy[i][u][t]\n",
    "                if (b_sum == 500):\n",
    "                    c = True\n",
    "                    break \n",
    "            if(c==True):\n",
    "                break\n",
    "            if (b_copy[i][t].sum() == 500):\n",
    "                r = True\n",
    "                break                  \n",
    "        if (r==True):\n",
    "            print(\"r\\n\",b_copy[i],i,l,draw[l])\n",
    "            break\n",
    "        elif (c==True):\n",
    "            print(\"c\\n\",b_copy[i],i,l,draw[l])\n",
    "            break\n",
    "                \n",
    "    if (r==True):\n",
    "        break\n",
    "    elif (c==True):\n",
    "        break       \n"
   ]
  },
  {
   "cell_type": "markdown",
   "id": "af611cd2",
   "metadata": {},
   "source": [
    "#### Printing the sum"
   ]
  },
  {
   "cell_type": "code",
   "execution_count": 19,
   "id": "29376378",
   "metadata": {},
   "outputs": [
    {
     "name": "stdout",
     "output_type": "stream",
     "text": [
      "69579\n"
     ]
    }
   ],
   "source": [
    "s=0\n",
    "for t in range(0,5):            \n",
    "            for u in range(0,5):\n",
    "                if (b_copy[i][t][u] !=100):\n",
    "                    s += b_copy[i][t][u]\n",
    "print(s*draw[l])\n"
   ]
  },
  {
   "cell_type": "markdown",
   "id": "da0157ad",
   "metadata": {},
   "source": [
    "# Solving Puzzle 2 "
   ]
  },
  {
   "cell_type": "markdown",
   "id": "6e9141cc",
   "metadata": {},
   "source": [
    "#### Finding the last matrix to win"
   ]
  },
  {
   "cell_type": "code",
   "execution_count": 20,
   "id": "12590110",
   "metadata": {},
   "outputs": [
    {
     "name": "stdout",
     "output_type": "stream",
     "text": [
      "[[[ 30 100 100 100 100]\n",
      "  [100 100  62  97 100]\n",
      "  [100   1 100 100 100]\n",
      "  [ 36 100  18 100 100]\n",
      "  [100 100 100  87  24]]] [59] 97\n"
     ]
    }
   ],
   "source": [
    "b_copy = b.copy()\n",
    "a= list(range(0,100))\n",
    "\n",
    "for l in range(0,100):\n",
    "    if (len(a)>1):\n",
    "        for i in range(0,100):\n",
    "            if (i in a):\n",
    "                for t in range(0,5):            \n",
    "                    for u in range(0,5):\n",
    "                        if (b_copy[i][t][u] == draw[l]):\n",
    "                               b_copy[i][t][u] = 100        \n",
    "                  \n",
    "            \n",
    "        for i in range (0,100):\n",
    "            r=False  \n",
    "            c=False\n",
    "            if ((len(a)>1) and (i in a)):\n",
    "                for t in range (0,5):\n",
    "                    b_sum = 0\n",
    "                    for u in range (0,5):\n",
    "                        b_sum += b_copy[i][u][t]\n",
    "                        if (b_sum == 500):\n",
    "                            c = True\n",
    "                            break \n",
    "                    if(c==True):\n",
    "                        break\n",
    "                    if (b_copy[i][t].sum() == 500):\n",
    "                        r = True\n",
    "                        break                  \n",
    "                if (r==True):\n",
    "                    a.remove(i)\n",
    "                elif (c==True):                    \n",
    "                    a.remove(i)\n",
    "\n",
    "    else:\n",
    "        print(b_copy[a],a,draw[l])\n",
    "        break\n"
   ]
  },
  {
   "cell_type": "code",
   "execution_count": 21,
   "id": "24bce13c",
   "metadata": {},
   "outputs": [
    {
     "name": "stdout",
     "output_type": "stream",
     "text": [
      "c\n",
      " [[ 30 100 100 100 100]\n",
      " [100 100  62 100 100]\n",
      " [100   1 100 100 100]\n",
      " [ 36 100  18 100 100]\n",
      " [100 100 100 100  24]] 59 88 87\n"
     ]
    }
   ],
   "source": [
    "b_copy = b.copy()\n",
    "i= a[0]\n",
    "for l in range(0,100):    \n",
    "        \n",
    "        for t in range(0,5):            \n",
    "            for u in range(0,5):\n",
    "                if (b_copy[i][t][u] == draw[l]):\n",
    "#                     print(b_copy[i][t][u],draw[l] ,l , i)\n",
    "                    b_copy[i][t][u] = 100                    \n",
    "#                     print(b_copy[i][t][u],draw[l] ,l , i)\n",
    "        r=False  \n",
    "        c=False\n",
    "    \n",
    "        for t in range (0,5):\n",
    "            b_sum = 0\n",
    "            for u in range (0,5):\n",
    "                b_sum += b_copy[i][u][t]\n",
    "                if (b_sum == 500):\n",
    "                    c = True\n",
    "                    break \n",
    "            if(c==True):\n",
    "                break\n",
    "            if (b_copy[i][t].sum() == 500):\n",
    "                r = True\n",
    "                break                  \n",
    "        if (r==True):\n",
    "            print(\"r\\n\",b_copy[i],i,l,draw[l])\n",
    "            break\n",
    "        elif (c==True):\n",
    "            print(\"c\\n\",b_copy[i],i,l,draw[l])\n",
    "            break"
   ]
  },
  {
   "cell_type": "code",
   "execution_count": 22,
   "id": "7a0af804",
   "metadata": {},
   "outputs": [
    {
     "name": "stdout",
     "output_type": "stream",
     "text": [
      "14877\n"
     ]
    }
   ],
   "source": [
    "s=0\n",
    "for t in range(0,5):            \n",
    "            for u in range(0,5):\n",
    "                if (b_copy[i][t][u] !=100):\n",
    "                    s += b_copy[i][t][u]\n",
    "print(s*draw[l])\n"
   ]
  }
 ],
 "metadata": {
  "kernelspec": {
   "display_name": "Python 3 (ipykernel)",
   "language": "python",
   "name": "python3"
  },
  "language_info": {
   "codemirror_mode": {
    "name": "ipython",
    "version": 3
   },
   "file_extension": ".py",
   "mimetype": "text/x-python",
   "name": "python",
   "nbconvert_exporter": "python",
   "pygments_lexer": "ipython3",
   "version": "3.9.7"
  }
 },
 "nbformat": 4,
 "nbformat_minor": 5
}
