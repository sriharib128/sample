{
 "cells": [
  {
   "cell_type": "code",
   "execution_count": 1,
   "id": "1ddb08bb",
   "metadata": {},
   "outputs": [],
   "source": [
    "import numpy as np # 26477 is wrong"
   ]
  },
  {
   "cell_type": "code",
   "execution_count": 2,
   "id": "f0a51c16",
   "metadata": {},
   "outputs": [
    {
     "data": {
      "text/plain": [
       "100"
      ]
     },
     "execution_count": 2,
     "metadata": {},
     "output_type": "execute_result"
    }
   ],
   "source": [
    "file = open('untitled.txt', 'r')\n",
    "line= [x for x in file.read().strip().split('\\n')]\n",
    "len(line)"
   ]
  },
  {
   "cell_type": "code",
   "execution_count": 3,
   "id": "1edaf07c",
   "metadata": {},
   "outputs": [],
   "source": [
    "a = np.zeros((100,100) , dtype =int)"
   ]
  },
  {
   "cell_type": "code",
   "execution_count": 4,
   "id": "6ea60eae",
   "metadata": {},
   "outputs": [],
   "source": [
    "for i in range(0,100):\n",
    "    for j in range(0,100):\n",
    "        a[i][j] = int(line[i][j])"
   ]
  },
  {
   "cell_type": "code",
   "execution_count": 5,
   "id": "bbee9dcf",
   "metadata": {},
   "outputs": [
    {
     "data": {
      "text/plain": [
       "468"
      ]
     },
     "execution_count": 5,
     "metadata": {},
     "output_type": "execute_result"
    }
   ],
   "source": [
    "s=0\n",
    "for i in range(0,100):\n",
    "    for j in range(0,100):\n",
    "        c=[[i+1,j] , [i,j+1], [i-1,j] , [i,j-1]] # [i+1,j+1] , [i-1,j-1] , [i+1,j-1] , [i-1,j+1]\n",
    "        q,f= 0,0\n",
    "        for k in range(0,4):\n",
    "            if (c[k][0] <100 and c[k][0]>=0) and (c[k][1] <100 and c[k][1]>=0):\n",
    "                f+=1\n",
    "                if (a[i][j] < a [ c[k][0] ] [ c[k][1] ] ):\n",
    "                    q+=1\n",
    "        if (q==f):\n",
    "#             print(i,j ,s)\n",
    "            s+=(1+a[i][j])             \n",
    "s"
   ]
  },
  {
   "cell_type": "code",
   "execution_count": 6,
   "id": "a3fece89",
   "metadata": {},
   "outputs": [],
   "source": [
    "heightmap = { (i,j):c for i,row in enumerate(line) for j,c in enumerate(row) }\n",
    "neighbors = lambda x,y: [(x+dx,y+dy) for dx,dy in [(1,0),(0,1),(-1,0),(0,-1)] if (x+dx,y+dy) in heightmap]\n",
    "part1 = sum(int(c)+1 for (i,j),c in heightmap.items() if all(heightmap[x,y]>c for x,y in neighbors(i,j)))\n",
    "\n"
   ]
  },
  {
   "cell_type": "code",
   "execution_count": 7,
   "id": "eaa4400f",
   "metadata": {},
   "outputs": [
    {
     "data": {
      "text/plain": [
       "468"
      ]
     },
     "execution_count": 7,
     "metadata": {},
     "output_type": "execute_result"
    }
   ],
   "source": [
    "part1"
   ]
  },
  {
   "cell_type": "code",
   "execution_count": null,
   "id": "d29d7fce",
   "metadata": {},
   "outputs": [],
   "source": []
  }
 ],
 "metadata": {
  "kernelspec": {
   "display_name": "Python 3 (ipykernel)",
   "language": "python",
   "name": "python3"
  },
  "language_info": {
   "codemirror_mode": {
    "name": "ipython",
    "version": 3
   },
   "file_extension": ".py",
   "mimetype": "text/x-python",
   "name": "python",
   "nbconvert_exporter": "python",
   "pygments_lexer": "ipython3",
   "version": "3.9.7"
  }
 },
 "nbformat": 4,
 "nbformat_minor": 5
}
