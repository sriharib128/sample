{
 "cells": [
  {
   "cell_type": "code",
   "execution_count": 1,
   "id": "77a3a003",
   "metadata": {},
   "outputs": [],
   "source": [
    "import pandas as pd\n",
    "import numpy as np"
   ]
  },
  {
   "cell_type": "code",
   "execution_count": 2,
   "id": "24b13cce",
   "metadata": {},
   "outputs": [],
   "source": [
    "input_data = pd.read_csv(\"untitled.csv\")"
   ]
  },
  {
   "cell_type": "code",
   "execution_count": 3,
   "id": "e370d8ec",
   "metadata": {},
   "outputs": [
    {
     "data": {
      "text/html": [
       "<div>\n",
       "<style scoped>\n",
       "    .dataframe tbody tr th:only-of-type {\n",
       "        vertical-align: middle;\n",
       "    }\n",
       "\n",
       "    .dataframe tbody tr th {\n",
       "        vertical-align: top;\n",
       "    }\n",
       "\n",
       "    .dataframe thead th {\n",
       "        text-align: right;\n",
       "    }\n",
       "</style>\n",
       "<table border=\"1\" class=\"dataframe\">\n",
       "  <thead>\n",
       "    <tr style=\"text-align: right;\">\n",
       "      <th></th>\n",
       "      <th>x1</th>\n",
       "      <th>y1</th>\n",
       "      <th>x2</th>\n",
       "      <th>y2</th>\n",
       "    </tr>\n",
       "  </thead>\n",
       "  <tbody>\n",
       "    <tr>\n",
       "      <th>0</th>\n",
       "      <td>720</td>\n",
       "      <td>475</td>\n",
       "      <td>720</td>\n",
       "      <td>669</td>\n",
       "    </tr>\n",
       "    <tr>\n",
       "      <th>1</th>\n",
       "      <td>268</td>\n",
       "      <td>784</td>\n",
       "      <td>595</td>\n",
       "      <td>784</td>\n",
       "    </tr>\n",
       "    <tr>\n",
       "      <th>2</th>\n",
       "      <td>163</td>\n",
       "      <td>778</td>\n",
       "      <td>149</td>\n",
       "      <td>778</td>\n",
       "    </tr>\n",
       "    <tr>\n",
       "      <th>3</th>\n",
       "      <td>856</td>\n",
       "      <td>917</td>\n",
       "      <td>856</td>\n",
       "      <td>114</td>\n",
       "    </tr>\n",
       "    <tr>\n",
       "      <th>4</th>\n",
       "      <td>929</td>\n",
       "      <td>964</td>\n",
       "      <td>433</td>\n",
       "      <td>964</td>\n",
       "    </tr>\n",
       "    <tr>\n",
       "      <th>...</th>\n",
       "      <td>...</td>\n",
       "      <td>...</td>\n",
       "      <td>...</td>\n",
       "      <td>...</td>\n",
       "    </tr>\n",
       "    <tr>\n",
       "      <th>495</th>\n",
       "      <td>947</td>\n",
       "      <td>142</td>\n",
       "      <td>45</td>\n",
       "      <td>142</td>\n",
       "    </tr>\n",
       "    <tr>\n",
       "      <th>496</th>\n",
       "      <td>653</td>\n",
       "      <td>57</td>\n",
       "      <td>131</td>\n",
       "      <td>57</td>\n",
       "    </tr>\n",
       "    <tr>\n",
       "      <th>497</th>\n",
       "      <td>822</td>\n",
       "      <td>720</td>\n",
       "      <td>721</td>\n",
       "      <td>720</td>\n",
       "    </tr>\n",
       "    <tr>\n",
       "      <th>498</th>\n",
       "      <td>861</td>\n",
       "      <td>871</td>\n",
       "      <td>125</td>\n",
       "      <td>135</td>\n",
       "    </tr>\n",
       "    <tr>\n",
       "      <th>499</th>\n",
       "      <td>950</td>\n",
       "      <td>698</td>\n",
       "      <td>597</td>\n",
       "      <td>698</td>\n",
       "    </tr>\n",
       "  </tbody>\n",
       "</table>\n",
       "<p>500 rows × 4 columns</p>\n",
       "</div>"
      ],
      "text/plain": [
       "      x1   y1   x2   y2\n",
       "0    720  475  720  669\n",
       "1    268  784  595  784\n",
       "2    163  778  149  778\n",
       "3    856  917  856  114\n",
       "4    929  964  433  964\n",
       "..   ...  ...  ...  ...\n",
       "495  947  142   45  142\n",
       "496  653   57  131   57\n",
       "497  822  720  721  720\n",
       "498  861  871  125  135\n",
       "499  950  698  597  698\n",
       "\n",
       "[500 rows x 4 columns]"
      ]
     },
     "execution_count": 3,
     "metadata": {},
     "output_type": "execute_result"
    }
   ],
   "source": [
    "input_data"
   ]
  },
  {
   "cell_type": "code",
   "execution_count": 4,
   "id": "b4e6ea6e",
   "metadata": {},
   "outputs": [
    {
     "name": "stdout",
     "output_type": "stream",
     "text": [
      "<class 'pandas.core.frame.DataFrame'>\n",
      "RangeIndex: 500 entries, 0 to 499\n",
      "Data columns (total 4 columns):\n",
      " #   Column  Non-Null Count  Dtype\n",
      "---  ------  --------------  -----\n",
      " 0   x1      500 non-null    int64\n",
      " 1   y1      500 non-null    int64\n",
      " 2   x2      500 non-null    int64\n",
      " 3   y2      500 non-null    int64\n",
      "dtypes: int64(4)\n",
      "memory usage: 15.8 KB\n"
     ]
    }
   ],
   "source": [
    "input_data.info()"
   ]
  },
  {
   "cell_type": "code",
   "execution_count": 5,
   "id": "5fda8170",
   "metadata": {},
   "outputs": [
    {
     "data": {
      "text/plain": [
       "x1    989\n",
       "y1    990\n",
       "x2    990\n",
       "y2    988\n",
       "dtype: int64"
      ]
     },
     "execution_count": 5,
     "metadata": {},
     "output_type": "execute_result"
    }
   ],
   "source": [
    "input_data.max()"
   ]
  },
  {
   "cell_type": "code",
   "execution_count": 6,
   "id": "a4819ab0",
   "metadata": {},
   "outputs": [],
   "source": [
    "m = np.zeros((1000,1000),dtype = int)\n",
    "for i in range(0,500):\n",
    "    \n",
    "    # Line parallel to x axis as y input is same\n",
    "    \n",
    "    if (input_data['y1'][i]==input_data['y2'][i]):\n",
    "        \n",
    "        if (input_data['x1'][i] > input_data['x2'][i]):\n",
    "            x=list(range( int(input_data['x2'][i]) , int((input_data['x1'][i])+1) ))\n",
    "        elif (input_data['x1'][i] < input_data['x2'][i]):\n",
    "            x=list(range( int(input_data['x1'][i]) , int((input_data['x2'][i])+1) ))           \n",
    "        for t in x:\n",
    "            m[input_data['y1'][i]][t] +=1\n",
    "   # Line paralle to y-axis as x input is same         \n",
    "    elif (input_data['x1'][i]==input_data['x2'][i]):\n",
    "        \n",
    "        if (input_data['y1'][i] > input_data['y2'][i]):\n",
    "            x=list(range( int(input_data['y2'][i]) , int((input_data['y1'][i])+1) ))\n",
    "        elif (input_data['y1'][i] < input_data['y2'][i]):\n",
    "            x=list(range( int(input_data['y1'][i]) , int((input_data['y2'][i])+1) ))            \n",
    "        for t in x:\n",
    "            m[t][input_data['x1'][i]] +=1    \n",
    "    \n",
    "    # Diagonal line\n",
    "    else:\n",
    "        # Slope if postive 1\n",
    "        if (input_data['x1'][i] > input_data['x2'][i]) and (input_data['y1'][i] > input_data['y2'][i]):\n",
    "            x=list(range( int(input_data['x2'][i]) , int((input_data['x1'][i])+1) ))\n",
    "            y=list(range( int(input_data['y2'][i]) , int((input_data['y1'][i])+1) ))\n",
    "            \n",
    "            for q in range(0,len(x)):\n",
    "                m[y[q]][x[q]] +=1\n",
    "            \n",
    "            \n",
    "        elif (input_data['x1'][i] < input_data['x2'][i]) and (input_data['y1'][i] < input_data['y2'][i]):\n",
    "            x=list(range( int(input_data['x1'][i]) , int((input_data['x2'][i])+1) ))\n",
    "            y=list(range( int(input_data['y1'][i]) , int((input_data['y2'][i])+1) ))\n",
    "            \n",
    "            for q in range(0,len(x)):\n",
    "                m[y[q]][x[q]] +=1\n",
    "                \n",
    "        # Slope is negative 1\n",
    "            \n",
    "        elif (input_data['y1'][i] > input_data['y2'][i]) and (input_data['x1'][i] < input_data['x2'][i]):\n",
    "            x=list(range( int(input_data['x1'][i]) , int((input_data['x2'][i])+1) ))\n",
    "            y=list(range( int(input_data['y2'][i]) , int((input_data['y1'][i])+1) ))\n",
    "            y_r = y[::-1]\n",
    "            \n",
    "            for q in range (0,len(x)):\n",
    "                m[y_r[q]][x[q]] +=1\n",
    "            \n",
    "            \n",
    "        elif (input_data['y1'][i] < input_data['y2'][i]) and (input_data['x1'][i] > input_data['x2'][i]):\n",
    "            x=list(range( int(input_data['x2'][i]) , int((input_data['x1'][i])+1) ))\n",
    "            y=list(range( int(input_data['y1'][i]) , int((input_data['y2'][i])+1) ))\n",
    "            x_r  = x[::-1]\n",
    "            \n",
    "            for q in range (0,len(x)):\n",
    "                m[y[q]][x_r[q]] +=1\n",
    "        \n",
    "            \n",
    "        \n",
    "       "
   ]
  },
  {
   "cell_type": "code",
   "execution_count": 7,
   "id": "523ee688",
   "metadata": {},
   "outputs": [
    {
     "name": "stdout",
     "output_type": "stream",
     "text": [
      "21140\n"
     ]
    }
   ],
   "source": [
    "x=0\n",
    "for i in range(0,1000):\n",
    "    for t in range(0,1000):\n",
    "        if (m[i][t] >=2):\n",
    "            x+=1\n",
    "print(x)\n",
    "        "
   ]
  },
  {
   "cell_type": "code",
   "execution_count": 8,
   "id": "5aeeb959",
   "metadata": {},
   "outputs": [
    {
     "data": {
      "text/plain": [
       "[9, 8, 7, 6, 5, 4, 3, 2, 1, 0]"
      ]
     },
     "execution_count": 8,
     "metadata": {},
     "output_type": "execute_result"
    }
   ],
   "source": [
    "list(range(0,10))[::-1]"
   ]
  },
  {
   "cell_type": "code",
   "execution_count": null,
   "id": "1381b9b8",
   "metadata": {},
   "outputs": [],
   "source": []
  }
 ],
 "metadata": {
  "kernelspec": {
   "display_name": "Python 3 (ipykernel)",
   "language": "python",
   "name": "python3"
  },
  "language_info": {
   "codemirror_mode": {
    "name": "ipython",
    "version": 3
   },
   "file_extension": ".py",
   "mimetype": "text/x-python",
   "name": "python",
   "nbconvert_exporter": "python",
   "pygments_lexer": "ipython3",
   "version": "3.9.7"
  }
 },
 "nbformat": 4,
 "nbformat_minor": 5
}
