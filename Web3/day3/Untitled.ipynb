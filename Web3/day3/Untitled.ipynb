{
 "cells": [
  {
   "cell_type": "code",
   "execution_count": 1,
   "id": "77a3a003",
   "metadata": {},
   "outputs": [],
   "source": [
    "import pandas as pd"
   ]
  },
  {
   "cell_type": "code",
   "execution_count": 2,
   "id": "24b13cce",
   "metadata": {},
   "outputs": [],
   "source": [
    "input_data = pd.read_csv(\"untitled.csv\")"
   ]
  },
  {
   "cell_type": "code",
   "execution_count": 3,
   "id": "e370d8ec",
   "metadata": {},
   "outputs": [
    {
     "data": {
      "text/html": [
       "<div>\n",
       "<style scoped>\n",
       "    .dataframe tbody tr th:only-of-type {\n",
       "        vertical-align: middle;\n",
       "    }\n",
       "\n",
       "    .dataframe tbody tr th {\n",
       "        vertical-align: top;\n",
       "    }\n",
       "\n",
       "    .dataframe thead th {\n",
       "        text-align: right;\n",
       "    }\n",
       "</style>\n",
       "<table border=\"1\" class=\"dataframe\">\n",
       "  <thead>\n",
       "    <tr style=\"text-align: right;\">\n",
       "      <th></th>\n",
       "      <th>Dir</th>\n",
       "    </tr>\n",
       "  </thead>\n",
       "  <tbody>\n",
       "    <tr>\n",
       "      <th>0</th>\n",
       "      <td>10011001001</td>\n",
       "    </tr>\n",
       "    <tr>\n",
       "      <th>1</th>\n",
       "      <td>110101011110</td>\n",
       "    </tr>\n",
       "    <tr>\n",
       "      <th>2</th>\n",
       "      <td>111111000101</td>\n",
       "    </tr>\n",
       "    <tr>\n",
       "      <th>3</th>\n",
       "      <td>100111111001</td>\n",
       "    </tr>\n",
       "    <tr>\n",
       "      <th>4</th>\n",
       "      <td>11111</td>\n",
       "    </tr>\n",
       "    <tr>\n",
       "      <th>...</th>\n",
       "      <td>...</td>\n",
       "    </tr>\n",
       "    <tr>\n",
       "      <th>995</th>\n",
       "      <td>100101001110</td>\n",
       "    </tr>\n",
       "    <tr>\n",
       "      <th>996</th>\n",
       "      <td>100011100011</td>\n",
       "    </tr>\n",
       "    <tr>\n",
       "      <th>997</th>\n",
       "      <td>101000101000</td>\n",
       "    </tr>\n",
       "    <tr>\n",
       "      <th>998</th>\n",
       "      <td>10101110101</td>\n",
       "    </tr>\n",
       "    <tr>\n",
       "      <th>999</th>\n",
       "      <td>11100011100</td>\n",
       "    </tr>\n",
       "  </tbody>\n",
       "</table>\n",
       "<p>1000 rows × 1 columns</p>\n",
       "</div>"
      ],
      "text/plain": [
       "              Dir\n",
       "0     10011001001\n",
       "1    110101011110\n",
       "2    111111000101\n",
       "3    100111111001\n",
       "4           11111\n",
       "..            ...\n",
       "995  100101001110\n",
       "996  100011100011\n",
       "997  101000101000\n",
       "998   10101110101\n",
       "999   11100011100\n",
       "\n",
       "[1000 rows x 1 columns]"
      ]
     },
     "execution_count": 3,
     "metadata": {},
     "output_type": "execute_result"
    }
   ],
   "source": [
    "input_data"
   ]
  },
  {
   "cell_type": "code",
   "execution_count": 4,
   "id": "b4e6ea6e",
   "metadata": {},
   "outputs": [
    {
     "name": "stdout",
     "output_type": "stream",
     "text": [
      "<class 'pandas.core.frame.DataFrame'>\n",
      "RangeIndex: 1000 entries, 0 to 999\n",
      "Data columns (total 1 columns):\n",
      " #   Column  Non-Null Count  Dtype\n",
      "---  ------  --------------  -----\n",
      " 0   Dir     1000 non-null   int64\n",
      "dtypes: int64(1)\n",
      "memory usage: 7.9 KB\n"
     ]
    }
   ],
   "source": [
    "input_data.info()"
   ]
  },
  {
   "cell_type": "code",
   "execution_count": 5,
   "id": "18e7b316",
   "metadata": {},
   "outputs": [
    {
     "data": {
      "text/plain": [
       "0       10011001001\n",
       "1      110101011110\n",
       "2      111111000101\n",
       "3      100111111001\n",
       "4             11111\n",
       "           ...     \n",
       "995    100101001110\n",
       "996    100011100011\n",
       "997    101000101000\n",
       "998     10101110101\n",
       "999     11100011100\n",
       "Name: Dir, Length: 1000, dtype: int64"
      ]
     },
     "execution_count": 5,
     "metadata": {},
     "output_type": "execute_result"
    }
   ],
   "source": [
    "input_data[\"Dir\"]"
   ]
  },
  {
   "cell_type": "markdown",
   "id": "0987707a",
   "metadata": {},
   "source": [
    "binary = pd.Series(mdtype='object)\n",
    "binary"
   ]
  },
  {
   "cell_type": "code",
   "execution_count": 6,
   "id": "636596ef",
   "metadata": {
    "scrolled": true
   },
   "outputs": [
    {
     "name": "stderr",
     "output_type": "stream",
     "text": [
      "/tmp/ipykernel_3832/3695127799.py:5: SettingWithCopyWarning: \n",
      "A value is trying to be set on a copy of a slice from a DataFrame\n",
      "\n",
      "See the caveats in the documentation: https://pandas.pydata.org/pandas-docs/stable/user_guide/indexing.html#returning-a-view-versus-a-copy\n",
      "  input_data[\"string\"][a]=str(input_data[\"Dir\"][a])\n",
      "/tmp/ipykernel_3832/3695127799.py:9: SettingWithCopyWarning: \n",
      "A value is trying to be set on a copy of a slice from a DataFrame\n",
      "\n",
      "See the caveats in the documentation: https://pandas.pydata.org/pandas-docs/stable/user_guide/indexing.html#returning-a-view-versus-a-copy\n",
      "  input_data[\"string\"][a] = '0'+ input_data[\"string\"][a]\n"
     ]
    }
   ],
   "source": [
    "input_data[\"string\"]=str(input_data[\"Dir\"])\n",
    "\n",
    "for a in range(0,1000):\n",
    "    \n",
    "    input_data[\"string\"][a]=str(input_data[\"Dir\"][a])\n",
    "    \n",
    "    if (len(input_data[\"string\"][a])!=12):\n",
    "        for x in range(0,13):\n",
    "            input_data[\"string\"][a] = '0'+ input_data[\"string\"][a]\n",
    "            \n",
    "            if (len(input_data[\"string\"][a])==12):\n",
    "                break\n",
    "        "
   ]
  },
  {
   "cell_type": "code",
   "execution_count": 7,
   "id": "82f4619e",
   "metadata": {},
   "outputs": [
    {
     "data": {
      "text/html": [
       "<div>\n",
       "<style scoped>\n",
       "    .dataframe tbody tr th:only-of-type {\n",
       "        vertical-align: middle;\n",
       "    }\n",
       "\n",
       "    .dataframe tbody tr th {\n",
       "        vertical-align: top;\n",
       "    }\n",
       "\n",
       "    .dataframe thead th {\n",
       "        text-align: right;\n",
       "    }\n",
       "</style>\n",
       "<table border=\"1\" class=\"dataframe\">\n",
       "  <thead>\n",
       "    <tr style=\"text-align: right;\">\n",
       "      <th></th>\n",
       "      <th>Dir</th>\n",
       "      <th>string</th>\n",
       "    </tr>\n",
       "  </thead>\n",
       "  <tbody>\n",
       "    <tr>\n",
       "      <th>0</th>\n",
       "      <td>10011001001</td>\n",
       "      <td>010011001001</td>\n",
       "    </tr>\n",
       "    <tr>\n",
       "      <th>1</th>\n",
       "      <td>110101011110</td>\n",
       "      <td>110101011110</td>\n",
       "    </tr>\n",
       "    <tr>\n",
       "      <th>2</th>\n",
       "      <td>111111000101</td>\n",
       "      <td>111111000101</td>\n",
       "    </tr>\n",
       "    <tr>\n",
       "      <th>3</th>\n",
       "      <td>100111111001</td>\n",
       "      <td>100111111001</td>\n",
       "    </tr>\n",
       "    <tr>\n",
       "      <th>4</th>\n",
       "      <td>11111</td>\n",
       "      <td>000000011111</td>\n",
       "    </tr>\n",
       "    <tr>\n",
       "      <th>...</th>\n",
       "      <td>...</td>\n",
       "      <td>...</td>\n",
       "    </tr>\n",
       "    <tr>\n",
       "      <th>995</th>\n",
       "      <td>100101001110</td>\n",
       "      <td>100101001110</td>\n",
       "    </tr>\n",
       "    <tr>\n",
       "      <th>996</th>\n",
       "      <td>100011100011</td>\n",
       "      <td>100011100011</td>\n",
       "    </tr>\n",
       "    <tr>\n",
       "      <th>997</th>\n",
       "      <td>101000101000</td>\n",
       "      <td>101000101000</td>\n",
       "    </tr>\n",
       "    <tr>\n",
       "      <th>998</th>\n",
       "      <td>10101110101</td>\n",
       "      <td>010101110101</td>\n",
       "    </tr>\n",
       "    <tr>\n",
       "      <th>999</th>\n",
       "      <td>11100011100</td>\n",
       "      <td>011100011100</td>\n",
       "    </tr>\n",
       "  </tbody>\n",
       "</table>\n",
       "<p>1000 rows × 2 columns</p>\n",
       "</div>"
      ],
      "text/plain": [
       "              Dir        string\n",
       "0     10011001001  010011001001\n",
       "1    110101011110  110101011110\n",
       "2    111111000101  111111000101\n",
       "3    100111111001  100111111001\n",
       "4           11111  000000011111\n",
       "..            ...           ...\n",
       "995  100101001110  100101001110\n",
       "996  100011100011  100011100011\n",
       "997  101000101000  101000101000\n",
       "998   10101110101  010101110101\n",
       "999   11100011100  011100011100\n",
       "\n",
       "[1000 rows x 2 columns]"
      ]
     },
     "execution_count": 7,
     "metadata": {},
     "output_type": "execute_result"
    }
   ],
   "source": [
    "input_data"
   ]
  },
  {
   "cell_type": "code",
   "execution_count": 8,
   "id": "0527c21e",
   "metadata": {},
   "outputs": [
    {
     "name": "stdout",
     "output_type": "stream",
     "text": [
      "512 488\n",
      "501 499\n",
      "503 497\n",
      "494 506\n",
      "516 484\n",
      "515 485\n",
      "510 490\n",
      "499 501\n",
      "497 503\n",
      "517 483\n",
      "507 493\n",
      "485 515\n",
      "000100011001\n"
     ]
    }
   ],
   "source": [
    "g_max = ''\n",
    "for a in range(0,12):\n",
    "    n_0 = 0 \n",
    "    n_1 = 0\n",
    "    for i in range(0,1000):\n",
    "        if (input_data[\"string\"][i][a] == '0'):\n",
    "            n_0 += 1\n",
    "        else:\n",
    "            n_1 +=1\n",
    "    print(n_0,n_1 )   \n",
    "    if (n_0 > n_1):\n",
    "          g_max = g_max+'0'\n",
    "        \n",
    "    if (n_0 < n_1):\n",
    "        g_max = g_max + '1'\n",
    "print(g_max)\n",
    "    "
   ]
  },
  {
   "cell_type": "code",
   "execution_count": 23,
   "id": "76e28349",
   "metadata": {},
   "outputs": [
    {
     "data": {
      "text/plain": [
       "(pandas.core.series.Series, '010011001001', 1000)"
      ]
     },
     "execution_count": 23,
     "metadata": {},
     "output_type": "execute_result"
    }
   ],
   "source": [
    "oxy=input_data[\"string\"]\n",
    "car=input_data[\"string\"]\n",
    "type(oxy),oxy[0],len(oxy)"
   ]
  },
  {
   "cell_type": "code",
   "execution_count": 24,
   "id": "8c334339",
   "metadata": {},
   "outputs": [
    {
     "data": {
      "text/plain": [
       "0      010011001001\n",
       "1      110101011110\n",
       "2      111111000101\n",
       "3      100111111001\n",
       "4      000000011111\n",
       "           ...     \n",
       "995    100101001110\n",
       "996    100011100011\n",
       "997    101000101000\n",
       "998    010101110101\n",
       "999    011100011100\n",
       "Name: string, Length: 1000, dtype: object"
      ]
     },
     "execution_count": 24,
     "metadata": {},
     "output_type": "execute_result"
    }
   ],
   "source": [
    "oxy"
   ]
  },
  {
   "cell_type": "code",
   "execution_count": 25,
   "id": "9751fff3",
   "metadata": {},
   "outputs": [],
   "source": [
    "for a in range(0,12):\n",
    "    \n",
    "    \n",
    "    n_0 = 0 \n",
    "    n_1 = 0\n",
    "    oxy =oxy.reset_index()[\"string\"]\n",
    "    y=len(oxy)\n",
    "       \n",
    "    for i in range(0,y):\n",
    "        if (oxy[i][a] == '0'):\n",
    "            n_0 += 1\n",
    "        else:\n",
    "            n_1 +=1          \n",
    "                     \n",
    "    if (len(oxy)>1):\n",
    "        for i in range(0,y):\n",
    "            \n",
    "            if (n_0 == n_1):\n",
    "                if (oxy[i][a] != '1'):\n",
    "                    oxy.drop([i],inplace = True)\n",
    "            \n",
    "            if (n_0 > n_1):            \n",
    "                if (oxy[i][a] != '0'):\n",
    "                    oxy.drop([i],inplace = True)\n",
    "        \n",
    "            if (n_0 < n_1):            \n",
    "                if (oxy[i][a] != '1'):\n",
    "                    oxy.drop([i],inplace = True)\n",
    "    \n",
    "                    \n",
    "    n_0 = 0\n",
    "    n_1 = 0\n",
    "    car =car.reset_index()[\"string\"]\n",
    "    z=len(car)\n",
    "    \n",
    "    for i in range(0,z):\n",
    "        if (car[i][a] == '0'):\n",
    "            n_0 += 1\n",
    "        else:\n",
    "            n_1 +=1  \n",
    "            \n",
    "    \n",
    "    \n",
    "    if (len(car)>1):\n",
    "        for i in range(0,z):\n",
    "            \n",
    "            if (n_0 == n_1):\n",
    "                if (car[i][a] != '0'):\n",
    "                    car.drop([i],inplace = True)\n",
    "            \n",
    "            if (n_0 > n_1): \n",
    "                if (car[i][a] != '1'):\n",
    "                    car.drop([i],inplace = True)\n",
    "        \n",
    "            if (n_0 < n_1):            \n",
    "                if (car[i][a] != '0'):\n",
    "                    car.drop([i],inplace = True)\n",
    "            \n",
    "    "
   ]
  },
  {
   "cell_type": "code",
   "execution_count": 26,
   "id": "39c4d7f1",
   "metadata": {},
   "outputs": [
    {
     "data": {
      "text/plain": [
       "(0    011010001111\n",
       " Name: string, dtype: object,\n",
       " 0    111001000000\n",
       " Name: string, dtype: object)"
      ]
     },
     "execution_count": 26,
     "metadata": {},
     "output_type": "execute_result"
    }
   ],
   "source": [
    "oxy,car"
   ]
  },
  {
   "cell_type": "code",
   "execution_count": null,
   "id": "5fda8170",
   "metadata": {},
   "outputs": [],
   "source": []
  }
 ],
 "metadata": {
  "kernelspec": {
   "display_name": "Python 3 (ipykernel)",
   "language": "python",
   "name": "python3"
  },
  "language_info": {
   "codemirror_mode": {
    "name": "ipython",
    "version": 3
   },
   "file_extension": ".py",
   "mimetype": "text/x-python",
   "name": "python",
   "nbconvert_exporter": "python",
   "pygments_lexer": "ipython3",
   "version": "3.9.7"
  }
 },
 "nbformat": 4,
 "nbformat_minor": 5
}
