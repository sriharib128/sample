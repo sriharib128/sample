{
 "cells": [
  {
   "cell_type": "markdown",
   "metadata": {},
   "source": [
    "NumPy is fast as it vectorises the code.This is called broadcasting."
   ]
  },
  {
   "cell_type": "code",
   "execution_count": 1,
   "metadata": {},
   "outputs": [],
   "source": [
    "import numpy as np"
   ]
  },
  {
   "cell_type": "markdown",
   "metadata": {},
   "source": [
    "## Data Types and Attribute"
   ]
  },
  {
   "cell_type": "markdown",
   "metadata": {},
   "source": [
    "NumPy's main data type is ndarray"
   ]
  },
  {
   "cell_type": "markdown",
   "metadata": {},
   "source": [
    "<img src=\"numpy-anatomy-of-an-array-updated.png\" alt=\"details of a numpy array\" width =800/>\n",
    "\n",
    "Key terms:\n",
    "* **Array** - A list of numbers, can be multi-dimensional.\n",
    "* **Scalar** - A single number (e.g. `7`).\n",
    "* **Vector** - A list of numbers with 1-dimesion (e.g. `np.array([1, 2, 3])`).\n",
    "* **Matrix** - A (usually) multi-deminsional list of numbers (e.g. `np.array([[1, 2, 3], [4, 5, 6]])`)."
   ]
  },
  {
   "cell_type": "code",
   "execution_count": 2,
   "metadata": {},
   "outputs": [
    {
     "data": {
      "text/plain": [
       "array([1, 2, 3])"
      ]
     },
     "execution_count": 2,
     "metadata": {},
     "output_type": "execute_result"
    }
   ],
   "source": [
    "a1=np.array([1,2,3])\n",
    "a1"
   ]
  },
  {
   "cell_type": "code",
   "execution_count": 3,
   "metadata": {},
   "outputs": [
    {
     "data": {
      "text/plain": [
       "numpy.ndarray"
      ]
     },
     "execution_count": 3,
     "metadata": {},
     "output_type": "execute_result"
    }
   ],
   "source": [
    "type(a1)"
   ]
  },
  {
   "cell_type": "code",
   "execution_count": 4,
   "metadata": {},
   "outputs": [],
   "source": [
    "a2 = np.array([ [1,2.0,3.3] ,\n",
    "                [4,5,6.5] ])\n",
    "a3 = np.array([    [[1,2,3] , \n",
    "                   [4,5,6] ,\n",
    "                   [7,8,9]    ] , \n",
    "              [ [10,11,12] , \n",
    "                [13,14,15] , \n",
    "                [16,17,18]    ]   ])"
   ]
  },
  {
   "cell_type": "code",
   "execution_count": 5,
   "metadata": {},
   "outputs": [
    {
     "data": {
      "text/plain": [
       "array([[1. , 2. , 3.3],\n",
       "       [4. , 5. , 6.5]])"
      ]
     },
     "execution_count": 5,
     "metadata": {},
     "output_type": "execute_result"
    }
   ],
   "source": [
    "a2"
   ]
  },
  {
   "cell_type": "code",
   "execution_count": 6,
   "metadata": {},
   "outputs": [
    {
     "data": {
      "text/plain": [
       "array([[[ 1,  2,  3],\n",
       "        [ 4,  5,  6],\n",
       "        [ 7,  8,  9]],\n",
       "\n",
       "       [[10, 11, 12],\n",
       "        [13, 14, 15],\n",
       "        [16, 17, 18]]])"
      ]
     },
     "execution_count": 6,
     "metadata": {},
     "output_type": "execute_result"
    }
   ],
   "source": [
    "a3"
   ]
  },
  {
   "cell_type": "code",
   "execution_count": 7,
   "metadata": {},
   "outputs": [
    {
     "data": {
      "text/plain": [
       "(3,)"
      ]
     },
     "execution_count": 7,
     "metadata": {},
     "output_type": "execute_result"
    }
   ],
   "source": [
    "a1.shape"
   ]
  },
  {
   "cell_type": "code",
   "execution_count": 8,
   "metadata": {},
   "outputs": [
    {
     "data": {
      "text/plain": [
       "(2, 3)"
      ]
     },
     "execution_count": 8,
     "metadata": {},
     "output_type": "execute_result"
    }
   ],
   "source": [
    "a2.shape"
   ]
  },
  {
   "cell_type": "code",
   "execution_count": 9,
   "metadata": {},
   "outputs": [
    {
     "data": {
      "text/plain": [
       "(2, 3, 3)"
      ]
     },
     "execution_count": 9,
     "metadata": {},
     "output_type": "execute_result"
    }
   ],
   "source": [
    "a3.shape"
   ]
  },
  {
   "cell_type": "code",
   "execution_count": 10,
   "metadata": {},
   "outputs": [
    {
     "data": {
      "text/plain": [
       "(1, 2, 3)"
      ]
     },
     "execution_count": 10,
     "metadata": {},
     "output_type": "execute_result"
    }
   ],
   "source": [
    "a1.ndim,a2.ndim,a3.ndim # numberof dimension"
   ]
  },
  {
   "cell_type": "markdown",
   "metadata": {},
   "source": [
    "###### Here a1 is vector as it has only one dimension & a2 and a3 is are called matrix as it has more than one dimension"
   ]
  },
  {
   "cell_type": "code",
   "execution_count": 11,
   "metadata": {},
   "outputs": [
    {
     "data": {
      "text/plain": [
       "(dtype('int32'), dtype('float64'), dtype('int32'))"
      ]
     },
     "execution_count": 11,
     "metadata": {},
     "output_type": "execute_result"
    }
   ],
   "source": [
    "a1.dtype, a2.dtype, a3.dtype"
   ]
  },
  {
   "cell_type": "code",
   "execution_count": 12,
   "metadata": {},
   "outputs": [
    {
     "data": {
      "text/plain": [
       "(3, 6, 18)"
      ]
     },
     "execution_count": 12,
     "metadata": {},
     "output_type": "execute_result"
    }
   ],
   "source": [
    "a1.size,a2.size,a3.size"
   ]
  },
  {
   "cell_type": "code",
   "execution_count": 13,
   "metadata": {},
   "outputs": [
    {
     "data": {
      "text/plain": [
       "(numpy.ndarray, numpy.ndarray, numpy.ndarray)"
      ]
     },
     "execution_count": 13,
     "metadata": {},
     "output_type": "execute_result"
    }
   ],
   "source": [
    "type(a1),type(a2),type(a3)"
   ]
  },
  {
   "cell_type": "markdown",
   "metadata": {},
   "source": [
    "###### Create a DataFrame from a NumPy array"
   ]
  },
  {
   "cell_type": "code",
   "execution_count": 14,
   "metadata": {},
   "outputs": [],
   "source": [
    "import pandas as pd"
   ]
  },
  {
   "cell_type": "code",
   "execution_count": 15,
   "metadata": {},
   "outputs": [
    {
     "data": {
      "text/html": [
       "<div>\n",
       "<style scoped>\n",
       "    .dataframe tbody tr th:only-of-type {\n",
       "        vertical-align: middle;\n",
       "    }\n",
       "\n",
       "    .dataframe tbody tr th {\n",
       "        vertical-align: top;\n",
       "    }\n",
       "\n",
       "    .dataframe thead th {\n",
       "        text-align: right;\n",
       "    }\n",
       "</style>\n",
       "<table border=\"1\" class=\"dataframe\">\n",
       "  <thead>\n",
       "    <tr style=\"text-align: right;\">\n",
       "      <th></th>\n",
       "      <th>0</th>\n",
       "      <th>1</th>\n",
       "      <th>2</th>\n",
       "    </tr>\n",
       "  </thead>\n",
       "  <tbody>\n",
       "    <tr>\n",
       "      <th>0</th>\n",
       "      <td>1.0</td>\n",
       "      <td>2.0</td>\n",
       "      <td>3.3</td>\n",
       "    </tr>\n",
       "    <tr>\n",
       "      <th>1</th>\n",
       "      <td>4.0</td>\n",
       "      <td>5.0</td>\n",
       "      <td>6.5</td>\n",
       "    </tr>\n",
       "  </tbody>\n",
       "</table>\n",
       "</div>"
      ],
      "text/plain": [
       "     0    1    2\n",
       "0  1.0  2.0  3.3\n",
       "1  4.0  5.0  6.5"
      ]
     },
     "execution_count": 15,
     "metadata": {},
     "output_type": "execute_result"
    }
   ],
   "source": [
    "df=pd.DataFrame(a2)\n",
    "df"
   ]
  },
  {
   "cell_type": "markdown",
   "metadata": {},
   "source": [
    "## Creating Arrays"
   ]
  },
  {
   "cell_type": "code",
   "execution_count": 16,
   "metadata": {},
   "outputs": [
    {
     "data": {
      "text/plain": [
       "array([1, 2, 3])"
      ]
     },
     "execution_count": 16,
     "metadata": {},
     "output_type": "execute_result"
    }
   ],
   "source": [
    "sample_array = np.array([1,2,3])\n",
    "sample_array"
   ]
  },
  {
   "cell_type": "code",
   "execution_count": 17,
   "metadata": {},
   "outputs": [
    {
     "data": {
      "text/plain": [
       "dtype('int32')"
      ]
     },
     "execution_count": 17,
     "metadata": {},
     "output_type": "execute_result"
    }
   ],
   "source": [
    "sample_array.dtype"
   ]
  },
  {
   "cell_type": "code",
   "execution_count": 30,
   "metadata": {},
   "outputs": [
    {
     "data": {
      "text/plain": [
       "array([[1, 1, 1],\n",
       "       [1, 1, 1],\n",
       "       [1, 1, 1]])"
      ]
     },
     "execution_count": 30,
     "metadata": {},
     "output_type": "execute_result"
    }
   ],
   "source": [
    "zeros = np.ones((3,3),dtype=int)\n",
    "zeros"
   ]
  },
  {
   "cell_type": "code",
   "execution_count": 31,
   "metadata": {},
   "outputs": [
    {
     "data": {
      "text/plain": [
       "array([[0., 0., 0.],\n",
       "       [0., 0., 0.]])"
      ]
     },
     "execution_count": 31,
     "metadata": {},
     "output_type": "execute_result"
    }
   ],
   "source": [
    "a =np.zeros((2,3))\n",
    "a"
   ]
  },
  {
   "cell_type": "code",
   "execution_count": 32,
   "metadata": {},
   "outputs": [
    {
     "data": {
      "text/plain": [
       "dtype('float64')"
      ]
     },
     "execution_count": 32,
     "metadata": {},
     "output_type": "execute_result"
    }
   ],
   "source": [
    "a.dtype"
   ]
  },
  {
   "cell_type": "code",
   "execution_count": 33,
   "metadata": {},
   "outputs": [
    {
     "data": {
      "text/plain": [
       "numpy.ndarray"
      ]
     },
     "execution_count": 33,
     "metadata": {},
     "output_type": "execute_result"
    }
   ],
   "source": [
    "type(a)"
   ]
  },
  {
   "cell_type": "code",
   "execution_count": 34,
   "metadata": {},
   "outputs": [
    {
     "data": {
      "text/plain": [
       "array([0, 2, 4, 6, 8])"
      ]
     },
     "execution_count": 34,
     "metadata": {},
     "output_type": "execute_result"
    }
   ],
   "source": [
    "range_array = np.arange(0,10,2)\n",
    "range_array"
   ]
  },
  {
   "cell_type": "markdown",
   "metadata": {},
   "source": [
    "###### np.random. \n",
    "    ==> randint       ==>random         ==>rand"
   ]
  },
  {
   "cell_type": "code",
   "execution_count": 35,
   "metadata": {},
   "outputs": [
    {
     "data": {
      "text/plain": [
       "array([[5, 4, 6, 6, 9],\n",
       "       [4, 7, 8, 9, 1],\n",
       "       [6, 8, 4, 8, 4]])"
      ]
     },
     "execution_count": 35,
     "metadata": {},
     "output_type": "execute_result"
    }
   ],
   "source": [
    "random_array = np.random.randint(0, 10, size=(3,5))\n",
    "random_array"
   ]
  },
  {
   "cell_type": "code",
   "execution_count": 36,
   "metadata": {},
   "outputs": [
    {
     "data": {
      "text/plain": [
       "15"
      ]
     },
     "execution_count": 36,
     "metadata": {},
     "output_type": "execute_result"
    }
   ],
   "source": [
    "random_array.size"
   ]
  },
  {
   "cell_type": "code",
   "execution_count": 37,
   "metadata": {},
   "outputs": [
    {
     "data": {
      "text/plain": [
       "(3, 5)"
      ]
     },
     "execution_count": 37,
     "metadata": {},
     "output_type": "execute_result"
    }
   ],
   "source": [
    "random_array.shape"
   ]
  },
  {
   "cell_type": "code",
   "execution_count": 38,
   "metadata": {},
   "outputs": [],
   "source": [
    "random_array_2 = np.random.random((5,3))"
   ]
  },
  {
   "cell_type": "code",
   "execution_count": 40,
   "metadata": {},
   "outputs": [
    {
     "data": {
      "text/plain": [
       "array([[0.84473393, 0.44388381, 0.84183809],\n",
       "       [0.29300951, 0.10405648, 0.46141258],\n",
       "       [0.93060593, 0.26625225, 0.66816349],\n",
       "       [0.65680838, 0.63287188, 0.75981471],\n",
       "       [0.59845996, 0.45584184, 0.97026394]])"
      ]
     },
     "execution_count": 40,
     "metadata": {},
     "output_type": "execute_result"
    }
   ],
   "source": [
    "random_array_2"
   ]
  },
  {
   "cell_type": "code",
   "execution_count": 41,
   "metadata": {},
   "outputs": [
    {
     "data": {
      "text/plain": [
       "(5, 3)"
      ]
     },
     "execution_count": 41,
     "metadata": {},
     "output_type": "execute_result"
    }
   ],
   "source": [
    "random_array_2.shape"
   ]
  },
  {
   "cell_type": "code",
   "execution_count": 42,
   "metadata": {},
   "outputs": [
    {
     "data": {
      "text/plain": [
       "array([[0.45935209, 0.71985947, 0.08778508],\n",
       "       [0.35128862, 0.08864371, 0.1215572 ],\n",
       "       [0.68395583, 0.26409419, 0.57783832],\n",
       "       [0.87116373, 0.0521808 , 0.7188424 ],\n",
       "       [0.09759394, 0.69489981, 0.92074596]])"
      ]
     },
     "execution_count": 42,
     "metadata": {},
     "output_type": "execute_result"
    }
   ],
   "source": [
    "random_array_3 = np.random.rand(5,3)\n",
    "random_array_3"
   ]
  },
  {
   "cell_type": "code",
   "execution_count": 43,
   "metadata": {},
   "outputs": [],
   "source": [
    "#Pseudo random numbers"
   ]
  },
  {
   "cell_type": "code",
   "execution_count": 50,
   "metadata": {},
   "outputs": [
    {
     "data": {
      "text/plain": [
       "array([[0.5488135 , 0.71518937, 0.60276338, 0.54488318],\n",
       "       [0.4236548 , 0.64589411, 0.43758721, 0.891773  ],\n",
       "       [0.96366276, 0.38344152, 0.79172504, 0.52889492]])"
      ]
     },
     "execution_count": 50,
     "metadata": {},
     "output_type": "execute_result"
    }
   ],
   "source": [
    "np.random.seed(0)\n",
    "random_array_4 = np.random.random((3,4))\n",
    "random_array_4"
   ]
  },
  {
   "cell_type": "code",
   "execution_count": 48,
   "metadata": {},
   "outputs": [
    {
     "data": {
      "text/plain": [
       "array([[0.61209572, 0.616934  , 0.94374808, 0.6818203 ],\n",
       "       [0.3595079 , 0.43703195, 0.6976312 , 0.06022547],\n",
       "       [0.66676672, 0.67063787, 0.21038256, 0.1289263 ]])"
      ]
     },
     "execution_count": 48,
     "metadata": {},
     "output_type": "execute_result"
    }
   ],
   "source": [
    "random_array_4 = np.random.random((3,4))\n",
    "random_array_4"
   ]
  },
  {
   "cell_type": "code",
   "execution_count": 47,
   "metadata": {},
   "outputs": [],
   "source": [
    "# Run above two tabs multiple time to see the difference\n",
    "# when u run the 2nd tab for multiple times we get a new set of values but if we run the first tab for multiple times we get\n",
    "# same values every time u run the code"
   ]
  },
  {
   "cell_type": "markdown",
   "metadata": {},
   "source": [
    "## Viewing arrays and matrices"
   ]
  },
  {
   "cell_type": "code",
   "execution_count": 51,
   "metadata": {},
   "outputs": [
    {
     "data": {
      "text/plain": [
       "array([0.38344152, 0.4236548 , 0.43758721, 0.52889492, 0.54488318,\n",
       "       0.5488135 , 0.60276338, 0.64589411, 0.71518937, 0.79172504,\n",
       "       0.891773  , 0.96366276])"
      ]
     },
     "execution_count": 51,
     "metadata": {},
     "output_type": "execute_result"
    }
   ],
   "source": [
    "np.unique(random_array_4) # Gives onle unique values of an array"
   ]
  },
  {
   "cell_type": "code",
   "execution_count": 52,
   "metadata": {},
   "outputs": [
    {
     "data": {
      "text/plain": [
       "array([1, 2, 3])"
      ]
     },
     "execution_count": 52,
     "metadata": {},
     "output_type": "execute_result"
    }
   ],
   "source": [
    "a1"
   ]
  },
  {
   "cell_type": "code",
   "execution_count": 53,
   "metadata": {},
   "outputs": [
    {
     "data": {
      "text/plain": [
       "array([[1. , 2. , 3.3],\n",
       "       [4. , 5. , 6.5]])"
      ]
     },
     "execution_count": 53,
     "metadata": {},
     "output_type": "execute_result"
    }
   ],
   "source": [
    "a2"
   ]
  },
  {
   "cell_type": "code",
   "execution_count": 54,
   "metadata": {},
   "outputs": [
    {
     "data": {
      "text/plain": [
       "(1, (3,))"
      ]
     },
     "execution_count": 54,
     "metadata": {},
     "output_type": "execute_result"
    }
   ],
   "source": [
    "a1[0] , a1.shape"
   ]
  },
  {
   "cell_type": "code",
   "execution_count": 55,
   "metadata": {},
   "outputs": [
    {
     "data": {
      "text/plain": [
       "(array([1. , 2. , 3.3]), (2, 3))"
      ]
     },
     "execution_count": 55,
     "metadata": {},
     "output_type": "execute_result"
    }
   ],
   "source": [
    "a2[0] , a2.shape"
   ]
  },
  {
   "cell_type": "code",
   "execution_count": 56,
   "metadata": {},
   "outputs": [
    {
     "data": {
      "text/plain": [
       "array([[[ 1,  2,  3],\n",
       "        [ 4,  5,  6],\n",
       "        [ 7,  8,  9]],\n",
       "\n",
       "       [[10, 11, 12],\n",
       "        [13, 14, 15],\n",
       "        [16, 17, 18]]])"
      ]
     },
     "execution_count": 56,
     "metadata": {},
     "output_type": "execute_result"
    }
   ],
   "source": [
    "a3"
   ]
  },
  {
   "cell_type": "code",
   "execution_count": 57,
   "metadata": {},
   "outputs": [
    {
     "data": {
      "text/plain": [
       "(2, 3, 3)"
      ]
     },
     "execution_count": 57,
     "metadata": {},
     "output_type": "execute_result"
    }
   ],
   "source": [
    "a3.shape"
   ]
  },
  {
   "cell_type": "code",
   "execution_count": 58,
   "metadata": {},
   "outputs": [
    {
     "data": {
      "text/plain": [
       "array([[1, 2, 3],\n",
       "       [4, 5, 6],\n",
       "       [7, 8, 9]])"
      ]
     },
     "execution_count": 58,
     "metadata": {},
     "output_type": "execute_result"
    }
   ],
   "source": [
    "a3[0]"
   ]
  },
  {
   "cell_type": "code",
   "execution_count": 79,
   "metadata": {},
   "outputs": [
    {
     "data": {
      "text/plain": [
       "array([[[ 3,  2]],\n",
       "\n",
       "       [[12, 11]]])"
      ]
     },
     "execution_count": 79,
     "metadata": {},
     "output_type": "execute_result"
    }
   ],
   "source": [
    "a3[ 0:10 , 0:1 , 2:0:-1 ]"
   ]
  },
  {
   "cell_type": "code",
   "execution_count": 80,
   "metadata": {},
   "outputs": [
    {
     "data": {
      "text/plain": [
       "array([[[ 1,  2,  3],\n",
       "        [ 4,  5,  6],\n",
       "        [ 7,  8,  9]],\n",
       "\n",
       "       [[10, 11, 12],\n",
       "        [13, 14, 15],\n",
       "        [16, 17, 18]]])"
      ]
     },
     "execution_count": 80,
     "metadata": {},
     "output_type": "execute_result"
    }
   ],
   "source": [
    "a3[::,::,::] #a3[1st dimension,rows,columns]"
   ]
  },
  {
   "cell_type": "code",
   "execution_count": 81,
   "metadata": {},
   "outputs": [
    {
     "data": {
      "text/plain": [
       "array([[[[[8, 1, 5, 9, 8, 9],\n",
       "          [4, 3, 0, 3, 5, 0],\n",
       "          [2, 3, 8, 1, 3, 3],\n",
       "          [3, 7, 0, 1, 9, 9],\n",
       "          [0, 4, 7, 3, 2, 7]],\n",
       "\n",
       "         [[2, 0, 0, 4, 5, 5],\n",
       "          [6, 8, 4, 1, 4, 9],\n",
       "          [8, 1, 1, 7, 9, 9],\n",
       "          [3, 6, 7, 2, 0, 3],\n",
       "          [5, 9, 4, 4, 6, 4]],\n",
       "\n",
       "         [[4, 3, 4, 4, 8, 4],\n",
       "          [3, 7, 5, 5, 0, 1],\n",
       "          [5, 9, 3, 0, 5, 0],\n",
       "          [1, 2, 4, 2, 0, 3],\n",
       "          [2, 0, 7, 5, 9, 0]],\n",
       "\n",
       "         [[2, 7, 2, 9, 2, 3],\n",
       "          [3, 2, 3, 4, 1, 2],\n",
       "          [9, 1, 4, 6, 8, 2],\n",
       "          [3, 0, 0, 6, 0, 6],\n",
       "          [3, 3, 8, 8, 8, 2]]],\n",
       "\n",
       "\n",
       "        [[[3, 2, 0, 8, 8, 3],\n",
       "          [8, 2, 8, 4, 3, 0],\n",
       "          [4, 3, 6, 9, 8, 0],\n",
       "          [8, 5, 9, 0, 9, 6],\n",
       "          [5, 3, 1, 8, 0, 4]],\n",
       "\n",
       "         [[9, 6, 5, 7, 8, 8],\n",
       "          [9, 2, 8, 6, 6, 9],\n",
       "          [1, 6, 8, 8, 3, 2],\n",
       "          [3, 6, 3, 6, 5, 7],\n",
       "          [0, 8, 4, 6, 5, 8]],\n",
       "\n",
       "         [[2, 3, 9, 7, 5, 3],\n",
       "          [4, 5, 3, 3, 7, 9],\n",
       "          [9, 9, 7, 3, 2, 3],\n",
       "          [9, 7, 7, 5, 1, 2],\n",
       "          [2, 8, 1, 5, 8, 4]],\n",
       "\n",
       "         [[0, 2, 5, 5, 0, 8],\n",
       "          [1, 1, 0, 3, 8, 8],\n",
       "          [4, 4, 0, 9, 3, 7],\n",
       "          [3, 2, 1, 1, 2, 1],\n",
       "          [4, 2, 5, 5, 5, 2]]],\n",
       "\n",
       "\n",
       "        [[[5, 7, 7, 6, 1, 6],\n",
       "          [7, 2, 3, 1, 9, 5],\n",
       "          [9, 9, 2, 0, 9, 1],\n",
       "          [9, 0, 6, 0, 4, 8],\n",
       "          [4, 3, 3, 8, 8, 7]],\n",
       "\n",
       "         [[0, 3, 8, 7, 7, 1],\n",
       "          [8, 4, 7, 0, 4, 9],\n",
       "          [0, 6, 4, 2, 4, 6],\n",
       "          [3, 3, 7, 8, 5, 0],\n",
       "          [8, 5, 4, 7, 4, 1]],\n",
       "\n",
       "         [[3, 3, 9, 2, 5, 2],\n",
       "          [3, 5, 7, 2, 7, 1],\n",
       "          [6, 5, 0, 0, 3, 1],\n",
       "          [9, 9, 6, 6, 7, 8],\n",
       "          [8, 7, 0, 8, 6, 8]],\n",
       "\n",
       "         [[9, 8, 3, 6, 1, 7],\n",
       "          [4, 9, 2, 0, 8, 2],\n",
       "          [7, 8, 4, 4, 1, 7],\n",
       "          [6, 9, 4, 1, 5, 9],\n",
       "          [7, 1, 3, 5, 7, 3]]]],\n",
       "\n",
       "\n",
       "\n",
       "       [[[[6, 6, 7, 9, 1, 9],\n",
       "          [6, 0, 3, 8, 4, 1],\n",
       "          [4, 5, 0, 3, 1, 4],\n",
       "          [4, 4, 0, 0, 8, 4],\n",
       "          [6, 9, 3, 3, 2, 1]],\n",
       "\n",
       "         [[2, 1, 3, 4, 1, 1],\n",
       "          [0, 7, 8, 4, 3, 5],\n",
       "          [6, 3, 2, 9, 8, 1],\n",
       "          [4, 0, 8, 3, 9, 5],\n",
       "          [5, 1, 7, 8, 6, 4]],\n",
       "\n",
       "         [[7, 3, 5, 3, 6, 4],\n",
       "          [7, 3, 0, 5, 9, 3],\n",
       "          [7, 5, 5, 8, 0, 8],\n",
       "          [3, 6, 9, 3, 2, 7],\n",
       "          [0, 3, 0, 3, 6, 1]],\n",
       "\n",
       "         [[9, 2, 9, 4, 9, 1],\n",
       "          [3, 2, 4, 9, 7, 4],\n",
       "          [9, 4, 1, 2, 7, 2],\n",
       "          [3, 9, 7, 6, 6, 2],\n",
       "          [3, 6, 0, 8, 0, 7]]],\n",
       "\n",
       "\n",
       "        [[[6, 5, 9, 6, 5, 2],\n",
       "          [7, 1, 9, 2, 2, 5],\n",
       "          [6, 4, 2, 2, 1, 0],\n",
       "          [9, 0, 2, 8, 3, 0],\n",
       "          [8, 8, 1, 0, 5, 8]],\n",
       "\n",
       "         [[2, 3, 5, 3, 8, 6],\n",
       "          [4, 6, 3, 6, 2, 6],\n",
       "          [5, 5, 9, 4, 6, 5],\n",
       "          [1, 3, 3, 8, 9, 5],\n",
       "          [5, 6, 0, 9, 7, 5]],\n",
       "\n",
       "         [[1, 5, 6, 6, 8, 7],\n",
       "          [5, 3, 2, 9, 9, 3],\n",
       "          [2, 5, 4, 1, 5, 8],\n",
       "          [3, 5, 8, 4, 1, 7],\n",
       "          [8, 1, 2, 1, 1, 7]],\n",
       "\n",
       "         [[5, 0, 4, 1, 1, 6],\n",
       "          [6, 0, 2, 3, 7, 9],\n",
       "          [2, 4, 9, 0, 6, 9],\n",
       "          [2, 4, 7, 3, 0, 5],\n",
       "          [4, 0, 2, 3, 1, 7]]],\n",
       "\n",
       "\n",
       "        [[[1, 3, 4, 1, 7, 4],\n",
       "          [0, 2, 7, 4, 0, 2],\n",
       "          [6, 9, 2, 4, 9, 9],\n",
       "          [5, 4, 4, 9, 8, 1],\n",
       "          [5, 7, 0, 1, 3, 9]],\n",
       "\n",
       "         [[2, 8, 2, 4, 8, 2],\n",
       "          [9, 8, 7, 8, 2, 3],\n",
       "          [3, 6, 0, 3, 6, 3],\n",
       "          [9, 6, 3, 2, 2, 2],\n",
       "          [6, 4, 6, 0, 4, 9]],\n",
       "\n",
       "         [[2, 1, 6, 1, 7, 5],\n",
       "          [6, 1, 6, 6, 6, 6],\n",
       "          [2, 5, 2, 2, 3, 2],\n",
       "          [9, 3, 8, 5, 4, 5],\n",
       "          [1, 5, 8, 2, 9, 9]],\n",
       "\n",
       "         [[5, 6, 4, 0, 8, 5],\n",
       "          [5, 5, 1, 0, 0, 0],\n",
       "          [0, 0, 7, 6, 3, 5],\n",
       "          [4, 3, 4, 5, 1, 3],\n",
       "          [6, 7, 4, 0, 0, 7]]]]])"
      ]
     },
     "execution_count": 81,
     "metadata": {},
     "output_type": "execute_result"
    }
   ],
   "source": [
    "a5 = np.random.randint(10,size=(2,3,4,5,6))# In size last digit will be no of columns and last second number will be no of rows\n",
    "a5                                      #inner most array will [1,1,7,9,0,9]"
   ]
  },
  {
   "cell_type": "code",
   "execution_count": 84,
   "metadata": {},
   "outputs": [
    {
     "data": {
      "text/plain": [
       "array([[[[4, 1, 8, 2, 3],\n",
       "         [3, 4, 1, 6, 2],\n",
       "         [5, 4, 9, 1, 5],\n",
       "         [9, 4, 5, 7, 4]],\n",
       "\n",
       "        [[4, 2, 2, 1, 3],\n",
       "         [0, 1, 9, 1, 6],\n",
       "         [9, 8, 6, 3, 0],\n",
       "         [7, 3, 2, 5, 9]],\n",
       "\n",
       "        [[7, 3, 4, 7, 6],\n",
       "         [7, 3, 6, 9, 3],\n",
       "         [7, 1, 3, 7, 8],\n",
       "         [8, 4, 5, 3, 6]]],\n",
       "\n",
       "\n",
       "       [[[9, 6, 2, 9, 3],\n",
       "         [5, 7, 9, 0, 7],\n",
       "         [1, 2, 5, 0, 5],\n",
       "         [8, 9, 8, 2, 5]],\n",
       "\n",
       "        [[3, 1, 7, 3, 8],\n",
       "         [5, 5, 1, 9, 7],\n",
       "         [2, 1, 0, 1, 0],\n",
       "         [1, 1, 6, 8, 8]],\n",
       "\n",
       "        [[3, 2, 0, 7, 4],\n",
       "         [6, 0, 5, 3, 3],\n",
       "         [9, 4, 9, 0, 6],\n",
       "         [5, 3, 0, 0, 1]]]])"
      ]
     },
     "execution_count": 84,
     "metadata": {},
     "output_type": "execute_result"
    }
   ],
   "source": [
    "a4 = np.random.randint(10,size=(2,3,4,5))\n",
    "a4"
   ]
  },
  {
   "cell_type": "code",
   "execution_count": 85,
   "metadata": {},
   "outputs": [
    {
     "data": {
      "text/plain": [
       "array([[[[4, 1, 8, 2],\n",
       "         [3, 4, 1, 6],\n",
       "         [5, 4, 9, 1],\n",
       "         [9, 4, 5, 7]],\n",
       "\n",
       "        [[4, 2, 2, 1],\n",
       "         [0, 1, 9, 1],\n",
       "         [9, 8, 6, 3],\n",
       "         [7, 3, 2, 5]],\n",
       "\n",
       "        [[7, 3, 4, 7],\n",
       "         [7, 3, 6, 9],\n",
       "         [7, 1, 3, 7],\n",
       "         [8, 4, 5, 3]]],\n",
       "\n",
       "\n",
       "       [[[9, 6, 2, 9],\n",
       "         [5, 7, 9, 0],\n",
       "         [1, 2, 5, 0],\n",
       "         [8, 9, 8, 2]],\n",
       "\n",
       "        [[3, 1, 7, 3],\n",
       "         [5, 5, 1, 9],\n",
       "         [2, 1, 0, 1],\n",
       "         [1, 1, 6, 8]],\n",
       "\n",
       "        [[3, 2, 0, 7],\n",
       "         [6, 0, 5, 3],\n",
       "         [9, 4, 9, 0],\n",
       "         [5, 3, 0, 0]]]])"
      ]
     },
     "execution_count": 85,
     "metadata": {},
     "output_type": "execute_result"
    }
   ],
   "source": [
    "#first four numbers of inner most array\n",
    "a4[:,:,:,:4]"
   ]
  },
  {
   "cell_type": "markdown",
   "metadata": {},
   "source": [
    "## Manipulating & Computing Arrays"
   ]
  },
  {
   "cell_type": "markdown",
   "metadata": {},
   "source": [
    "#### ==>Arithmetic"
   ]
  },
  {
   "cell_type": "code",
   "execution_count": 86,
   "metadata": {},
   "outputs": [
    {
     "data": {
      "text/plain": [
       "array([1, 2, 3])"
      ]
     },
     "execution_count": 86,
     "metadata": {},
     "output_type": "execute_result"
    }
   ],
   "source": [
    "a1"
   ]
  },
  {
   "cell_type": "code",
   "execution_count": 87,
   "metadata": {},
   "outputs": [
    {
     "data": {
      "text/plain": [
       "array([1., 1., 1.])"
      ]
     },
     "execution_count": 87,
     "metadata": {},
     "output_type": "execute_result"
    }
   ],
   "source": [
    "ones=np.ones(3)\n",
    "ones"
   ]
  },
  {
   "cell_type": "code",
   "execution_count": 88,
   "metadata": {},
   "outputs": [
    {
     "data": {
      "text/plain": [
       "(array([2., 3., 4.]), array([2., 3., 4.]))"
      ]
     },
     "execution_count": 88,
     "metadata": {},
     "output_type": "execute_result"
    }
   ],
   "source": [
    "np.add(a1,ones)   ,     a1+ones # Both are same"
   ]
  },
  {
   "cell_type": "code",
   "execution_count": 89,
   "metadata": {},
   "outputs": [
    {
     "data": {
      "text/plain": [
       "array([0., 1., 2.])"
      ]
     },
     "execution_count": 89,
     "metadata": {},
     "output_type": "execute_result"
    }
   ],
   "source": [
    "a1-ones"
   ]
  },
  {
   "cell_type": "code",
   "execution_count": 90,
   "metadata": {},
   "outputs": [
    {
     "data": {
      "text/plain": [
       "array([1, 2, 3])"
      ]
     },
     "execution_count": 90,
     "metadata": {},
     "output_type": "execute_result"
    }
   ],
   "source": [
    "a1"
   ]
  },
  {
   "cell_type": "code",
   "execution_count": 91,
   "metadata": {},
   "outputs": [
    {
     "data": {
      "text/plain": [
       "array([[1. , 2. , 3.3],\n",
       "       [4. , 5. , 6.5]])"
      ]
     },
     "execution_count": 91,
     "metadata": {},
     "output_type": "execute_result"
    }
   ],
   "source": [
    "a2"
   ]
  },
  {
   "cell_type": "code",
   "execution_count": 92,
   "metadata": {},
   "outputs": [
    {
     "data": {
      "text/plain": [
       "array([[ 1. ,  4. ,  9.9],\n",
       "       [ 4. , 10. , 19.5]])"
      ]
     },
     "execution_count": 92,
     "metadata": {},
     "output_type": "execute_result"
    }
   ],
   "source": [
    "a1*a2"
   ]
  },
  {
   "cell_type": "code",
   "execution_count": 93,
   "metadata": {},
   "outputs": [
    {
     "data": {
      "text/plain": [
       "array([[1., 1., 1.],\n",
       "       [4., 2., 2.]])"
      ]
     },
     "execution_count": 93,
     "metadata": {},
     "output_type": "execute_result"
    }
   ],
   "source": [
    "a2//a1 ## Floor division removes the decimlas from the quotient(rounds down)"
   ]
  },
  {
   "cell_type": "code",
   "execution_count": 94,
   "metadata": {},
   "outputs": [
    {
     "data": {
      "text/plain": [
       "(array([[ 1.  ,  4.  , 10.89],\n",
       "        [16.  , 25.  , 42.25]]),\n",
       " array([[ 1.  ,  4.  , 10.89],\n",
       "        [16.  , 25.  , 42.25]]))"
      ]
     },
     "execution_count": 94,
     "metadata": {},
     "output_type": "execute_result"
    }
   ],
   "source": [
    "np.square(a2) , a2**2"
   ]
  },
  {
   "cell_type": "code",
   "execution_count": 95,
   "metadata": {},
   "outputs": [
    {
     "data": {
      "text/plain": [
       "array([[[ 1,  2,  3],\n",
       "        [ 4,  5,  6],\n",
       "        [ 7,  8,  9]],\n",
       "\n",
       "       [[10, 11, 12],\n",
       "        [13, 14, 15],\n",
       "        [16, 17, 18]]])"
      ]
     },
     "execution_count": 95,
     "metadata": {},
     "output_type": "execute_result"
    }
   ],
   "source": [
    "a3"
   ]
  },
  {
   "cell_type": "code",
   "execution_count": 96,
   "metadata": {},
   "outputs": [
    {
     "data": {
      "text/plain": [
       "array([1, 2, 3, 4])"
      ]
     },
     "execution_count": 96,
     "metadata": {},
     "output_type": "execute_result"
    }
   ],
   "source": [
    "b1=np.array([1,2,3,4])\n",
    "b1"
   ]
  },
  {
   "cell_type": "code",
   "execution_count": 97,
   "metadata": {},
   "outputs": [
    {
     "data": {
      "text/plain": [
       "array([[1. ],\n",
       "       [2. ],\n",
       "       [3.3],\n",
       "       [4. ],\n",
       "       [5. ],\n",
       "       [6.5]])"
      ]
     },
     "execution_count": 97,
     "metadata": {},
     "output_type": "execute_result"
    }
   ],
   "source": [
    "b2=np.reshape(a2 ,(6,1))\n",
    "b2"
   ]
  },
  {
   "cell_type": "code",
   "execution_count": null,
   "metadata": {},
   "outputs": [],
   "source": []
  },
  {
   "cell_type": "markdown",
   "metadata": {},
   "source": [
    "b2*a3"
   ]
  },
  {
   "cell_type": "markdown",
   "metadata": {},
   "source": [
    "ValueError: operands could not be broadcast together with shapes (6,1) (2,3,3)"
   ]
  },
  {
   "cell_type": "code",
   "execution_count": 98,
   "metadata": {},
   "outputs": [],
   "source": [
    "# You are allowed to have one \"unknown\" dimension.\n",
    "# Meaning that you do not have to specify an exact number for one of the dimensions in the reshape method.\n",
    "# Pass -1 as the value, and NumPy will calculate this number for you."
   ]
  },
  {
   "cell_type": "markdown",
   "metadata": {},
   "source": [
    "### Aggregation\n",
    "Performing same operation on a number of things"
   ]
  },
  {
   "cell_type": "code",
   "execution_count": 99,
   "metadata": {},
   "outputs": [
    {
     "data": {
      "text/plain": [
       "list"
      ]
     },
     "execution_count": 99,
     "metadata": {},
     "output_type": "execute_result"
    }
   ],
   "source": [
    "list_=[1,2,3] # python list\n",
    "type(list_)"
   ]
  },
  {
   "cell_type": "code",
   "execution_count": 100,
   "metadata": {},
   "outputs": [
    {
     "data": {
      "text/plain": [
       "10000"
      ]
     },
     "execution_count": 100,
     "metadata": {},
     "output_type": "execute_result"
    }
   ],
   "source": [
    "massive=np.random.random(10000)\n",
    "massive.size"
   ]
  },
  {
   "cell_type": "markdown",
   "metadata": {},
   "source": [
    " "
   ]
  },
  {
   "cell_type": "code",
   "execution_count": 105,
   "metadata": {},
   "outputs": [],
   "source": [
    "#   sum() is a Python method   &   np.sum() is a NumPy method"
   ]
  },
  {
   "cell_type": "code",
   "execution_count": 106,
   "metadata": {},
   "outputs": [],
   "source": [
    "#   %timeit is a magic function(has % before it)which is used to get time taken for execution"
   ]
  },
  {
   "cell_type": "code",
   "execution_count": 103,
   "metadata": {},
   "outputs": [
    {
     "name": "stdout",
     "output_type": "stream",
     "text": [
      "729 µs ± 15.7 µs per loop (mean ± std. dev. of 7 runs, 1000 loops each)\n",
      "113 ns ± 2.61 ns per loop (mean ± std. dev. of 7 runs, 10000000 loops each)\n"
     ]
    }
   ],
   "source": [
    "%timeit sum(massive) # Python method and NumPy array\n",
    "%timeit sum(list_)   # Python method and Python list"
   ]
  },
  {
   "cell_type": "code",
   "execution_count": 104,
   "metadata": {},
   "outputs": [
    {
     "name": "stdout",
     "output_type": "stream",
     "text": [
      "7.18 µs ± 82.7 ns per loop (mean ± std. dev. of 7 runs, 100000 loops each)\n",
      "5.16 µs ± 193 ns per loop (mean ± std. dev. of 7 runs, 100000 loops each)\n"
     ]
    }
   ],
   "source": [
    "%timeit np.sum(massive) # NumPy method and NumPy array\n",
    "%timeit np.sum(list_)   # Numpy methos and Numpy array"
   ]
  },
  {
   "cell_type": "markdown",
   "metadata": {},
   "source": [
    "###### Conclusion: - Use Python methods for Python datatypes and NumPy's methods for NumPy's dataframes for faster results"
   ]
  },
  {
   "cell_type": "code",
   "execution_count": 107,
   "metadata": {},
   "outputs": [
    {
     "data": {
      "text/plain": [
       "array([[1. , 2. , 3.3],\n",
       "       [4. , 5. , 6.5]])"
      ]
     },
     "execution_count": 107,
     "metadata": {},
     "output_type": "execute_result"
    }
   ],
   "source": [
    "a2"
   ]
  },
  {
   "cell_type": "code",
   "execution_count": 108,
   "metadata": {},
   "outputs": [
    {
     "data": {
      "text/plain": [
       "(3.6333333333333333,\n",
       " 6.5,\n",
       " 1.0,\n",
       " array([[1.        , 1.41421356, 1.81659021],\n",
       "        [2.        , 2.23606798, 2.54950976]]))"
      ]
     },
     "execution_count": 108,
     "metadata": {},
     "output_type": "execute_result"
    }
   ],
   "source": [
    "np.mean(a2), np.max(a2), np.min(a2) , np.sqrt(a2)"
   ]
  },
  {
   "cell_type": "code",
   "execution_count": null,
   "metadata": {},
   "outputs": [],
   "source": [
    "np.std(a2), np.var(a2)  # Higher variance ==>wide range of numbers  # standard devience is square root of Variance "
   ]
  },
  {
   "cell_type": "markdown",
   "metadata": {},
   "source": [
    "###### ==>  std and var"
   ]
  },
  {
   "cell_type": "code",
   "execution_count": null,
   "metadata": {},
   "outputs": [],
   "source": [
    "high_var = np.array([1,100,200,300,4000,5000]) # 1-5000\n",
    "low_var  = np.array([2,4,6,8,10])              # 2-10"
   ]
  },
  {
   "cell_type": "code",
   "execution_count": null,
   "metadata": {},
   "outputs": [],
   "source": [
    "np.var(high_var), np.var(low_var)"
   ]
  },
  {
   "cell_type": "code",
   "execution_count": null,
   "metadata": {},
   "outputs": [],
   "source": [
    "np.std(high_var), np.std(low_var)"
   ]
  },
  {
   "cell_type": "code",
   "execution_count": null,
   "metadata": {},
   "outputs": [],
   "source": [
    "np.mean(high_var),np.mean(low_var)"
   ]
  },
  {
   "cell_type": "code",
   "execution_count": null,
   "metadata": {},
   "outputs": [],
   "source": [
    "%matplotlib inline\n",
    "import matplotlib.pyplot as plt\n",
    "plt.hist(high_var)"
   ]
  },
  {
   "cell_type": "code",
   "execution_count": null,
   "metadata": {},
   "outputs": [],
   "source": [
    "plt.hist(low_var)"
   ]
  },
  {
   "cell_type": "markdown",
   "metadata": {},
   "source": [
    "## Reshaping and transposing"
   ]
  },
  {
   "cell_type": "code",
   "execution_count": null,
   "metadata": {},
   "outputs": [],
   "source": [
    "a2,a2.shape"
   ]
  },
  {
   "cell_type": "code",
   "execution_count": null,
   "metadata": {},
   "outputs": [],
   "source": [
    "a3"
   ]
  },
  {
   "cell_type": "code",
   "execution_count": null,
   "metadata": {},
   "outputs": [],
   "source": [
    "a2.shape,a3.shape"
   ]
  },
  {
   "cell_type": "code",
   "execution_count": null,
   "metadata": {},
   "outputs": [],
   "source": []
  },
  {
   "cell_type": "markdown",
   "metadata": {},
   "source": [
    "a2*a3"
   ]
  },
  {
   "cell_type": "markdown",
   "metadata": {},
   "source": [
    "ValueError: operands could not be broadcast together with shapes (2,3) (2,3,3) "
   ]
  },
  {
   "cell_type": "code",
   "execution_count": null,
   "metadata": {},
   "outputs": [],
   "source": [
    "a2_reshaped = a2.reshape(2,3,1)\n",
    "a2_reshaped"
   ]
  },
  {
   "cell_type": "code",
   "execution_count": null,
   "metadata": {},
   "outputs": [],
   "source": [
    "a2_reshaped.shape , a3.shape"
   ]
  },
  {
   "cell_type": "code",
   "execution_count": null,
   "metadata": {},
   "outputs": [],
   "source": [
    "a2_reshaped*a3"
   ]
  },
  {
   "cell_type": "code",
   "execution_count": null,
   "metadata": {},
   "outputs": [],
   "source": [
    "3.3*7 # But in a2_reshaped * a3 it is shapped as 23.1"
   ]
  },
  {
   "cell_type": "markdown",
   "metadata": {},
   "source": [
    "###### T - transpose method\n",
    "filps the axis"
   ]
  },
  {
   "cell_type": "code",
   "execution_count": null,
   "metadata": {},
   "outputs": [],
   "source": [
    "a3 , a3.T"
   ]
  },
  {
   "cell_type": "code",
   "execution_count": null,
   "metadata": {},
   "outputs": [],
   "source": [
    "a3.shape,a3.T.shape"
   ]
  },
  {
   "cell_type": "markdown",
   "metadata": {},
   "source": [
    "### Dot Product : - Matrix multiplication"
   ]
  },
  {
   "cell_type": "code",
   "execution_count": null,
   "metadata": {},
   "outputs": [],
   "source": [
    "np.random.seed(0)\n",
    "mat1 = np.random.randint(10,size=(5,3))\n",
    "mat2 = np.random.randint(10,size=(5,3))\n",
    "mat1,mat2"
   ]
  },
  {
   "cell_type": "code",
   "execution_count": null,
   "metadata": {},
   "outputs": [],
   "source": [
    "# Element-wise multiplication (Hadamard Producr)\n",
    "np.multiply(mat1,mat2) # or mat1*mat2 "
   ]
  },
  {
   "cell_type": "code",
   "execution_count": null,
   "metadata": {},
   "outputs": [],
   "source": []
  },
  {
   "cell_type": "markdown",
   "metadata": {},
   "source": [
    "np.dot(mat1,mat2)"
   ]
  },
  {
   "cell_type": "markdown",
   "metadata": {},
   "source": [
    "ValueError: shapes (5,3) and (5,3) not aligned: 3 (dim 1) != 5 (dim 0)"
   ]
  },
  {
   "cell_type": "code",
   "execution_count": null,
   "metadata": {},
   "outputs": [],
   "source": [
    "np.dot(mat1,mat2.T)"
   ]
  },
  {
   "cell_type": "code",
   "execution_count": null,
   "metadata": {},
   "outputs": [],
   "source": [
    "## Exercise to multiply quantity matrix with price matrix to give total"
   ]
  },
  {
   "cell_type": "code",
   "execution_count": null,
   "metadata": {},
   "outputs": [],
   "source": [
    "np.random.seed(2)\n",
    "quantity = np.random.randint(10,size =( 4,3))\n",
    "quantity"
   ]
  },
  {
   "cell_type": "code",
   "execution_count": null,
   "metadata": {},
   "outputs": [],
   "source": [
    "weekly_quantity = pd.DataFrame(quantity,index=[\"mon\",\"tue\",\"wed\",\"thu\"],columns=[\"idly\",\"dosa\",\"vada\"])\n",
    "weekly_quantity,weekly_quantity.shape"
   ]
  },
  {
   "cell_type": "code",
   "execution_count": null,
   "metadata": {},
   "outputs": [],
   "source": [
    "np.random.seed(0)\n",
    "cost=np.random.randint(30,size=(3,1))\n",
    "cost"
   ]
  },
  {
   "cell_type": "code",
   "execution_count": null,
   "metadata": {},
   "outputs": [],
   "source": [
    "prices=np.array(weekly_quantity.dot(cost))\n",
    "prices # 8*12 + 8*15 + 6*21 =342"
   ]
  },
  {
   "cell_type": "code",
   "execution_count": null,
   "metadata": {},
   "outputs": [],
   "source": [
    "weekly_quantity[\"Total\"] = prices\n",
    "weekly_quantity"
   ]
  },
  {
   "cell_type": "markdown",
   "metadata": {},
   "source": [
    "## Comparision Operators"
   ]
  },
  {
   "cell_type": "code",
   "execution_count": null,
   "metadata": {},
   "outputs": [],
   "source": [
    "a1,a2"
   ]
  },
  {
   "cell_type": "code",
   "execution_count": null,
   "metadata": {},
   "outputs": [],
   "source": [
    "bool_array= a1>=a2\n",
    "bool_array"
   ]
  },
  {
   "cell_type": "code",
   "execution_count": null,
   "metadata": {},
   "outputs": [],
   "source": [
    "type(bool_array),bool_array.dtype"
   ]
  },
  {
   "cell_type": "code",
   "execution_count": null,
   "metadata": {},
   "outputs": [],
   "source": [
    "a1>5"
   ]
  },
  {
   "cell_type": "markdown",
   "metadata": {},
   "source": [
    "## Sorting Arrays"
   ]
  },
  {
   "cell_type": "code",
   "execution_count": null,
   "metadata": {},
   "outputs": [],
   "source": [
    "random_array = np.random.randint(10,size=(3,5))\n",
    "random_array"
   ]
  },
  {
   "cell_type": "code",
   "execution_count": null,
   "metadata": {},
   "outputs": [],
   "source": [
    "np.sort(random_array)#==>sorts the rows "
   ]
  },
  {
   "cell_type": "code",
   "execution_count": null,
   "metadata": {},
   "outputs": [],
   "source": [
    "np.argsort(random_array) #==>sorts the indexes of each array "
   ]
  },
  {
   "cell_type": "code",
   "execution_count": null,
   "metadata": {},
   "outputs": [],
   "source": [
    "a1"
   ]
  },
  {
   "cell_type": "code",
   "execution_count": null,
   "metadata": {},
   "outputs": [],
   "source": [
    "np.argmin(a1),np.argmax(a1)"
   ]
  },
  {
   "cell_type": "code",
   "execution_count": null,
   "metadata": {},
   "outputs": [],
   "source": [
    "random_array"
   ]
  },
  {
   "cell_type": "code",
   "execution_count": null,
   "metadata": {},
   "outputs": [],
   "source": [
    "np.argmax(random_array,axis=0) # comparing each column. Ex:- in first column 6 is highest which has index number 2"
   ]
  },
  {
   "cell_type": "code",
   "execution_count": null,
   "metadata": {},
   "outputs": [],
   "source": [
    "np.argmax(random_array,axis=1)# comparing each row"
   ]
  },
  {
   "cell_type": "code",
   "execution_count": null,
   "metadata": {},
   "outputs": [],
   "source": [
    "a3"
   ]
  },
  {
   "cell_type": "code",
   "execution_count": null,
   "metadata": {},
   "outputs": [],
   "source": [
    "a3[0][0][0]"
   ]
  },
  {
   "cell_type": "markdown",
   "metadata": {},
   "source": [
    "###### ==>Axis in 3 dimensional array"
   ]
  },
  {
   "cell_type": "code",
   "execution_count": null,
   "metadata": {},
   "outputs": [],
   "source": [
    "a4=np.random.randint(30,size=(2,3,3))\n",
    "a4"
   ]
  },
  {
   "cell_type": "code",
   "execution_count": null,
   "metadata": {},
   "outputs": [],
   "source": [
    "np.max(a4,axis=0) #comparing coresponding elements in twoarray with same index number \n",
    "                  # Ex:-first compares 6 and 21 then 23 and 12"
   ]
  },
  {
   "cell_type": "code",
   "execution_count": null,
   "metadata": {},
   "outputs": [],
   "source": [
    "np.max(a4,axis=1)# comparing each column in 2 arrays\n",
    "                 # Ex:-14 is max in 6,14,0"
   ]
  },
  {
   "cell_type": "code",
   "execution_count": null,
   "metadata": {},
   "outputs": [],
   "source": [
    "np.max(a4,axis=2)# comparing each row\n",
    "                #  Ex:-23 is max in 6,23,11"
   ]
  },
  {
   "cell_type": "markdown",
   "metadata": {},
   "source": [
    "## NumPy in Real Life"
   ]
  },
  {
   "cell_type": "markdown",
   "metadata": {},
   "source": [
    "<img src=\"panda.png\" width = \"100\"/>"
   ]
  },
  {
   "cell_type": "code",
   "execution_count": null,
   "metadata": {},
   "outputs": [],
   "source": [
    "# to get above image one must exexute following code in markdown:- \"\"\"\"\"  <img src=\"panda.png\" width = \"100\"/>  \"\"\"\"\""
   ]
  },
  {
   "cell_type": "markdown",
   "metadata": {},
   "source": [
    "#### turn an image into a NumPy array"
   ]
  },
  {
   "cell_type": "code",
   "execution_count": null,
   "metadata": {},
   "outputs": [],
   "source": [
    "from matplotlib.image import imread\n",
    "panda = imread(\"panda.png\")"
   ]
  },
  {
   "cell_type": "code",
   "execution_count": null,
   "metadata": {},
   "outputs": [],
   "source": [
    "type(panda),panda.size,panda.shape,panda.ndim"
   ]
  },
  {
   "cell_type": "code",
   "execution_count": null,
   "metadata": {},
   "outputs": [],
   "source": [
    "panda[:1] # pixel details"
   ]
  }
 ],
 "metadata": {
  "kernelspec": {
   "display_name": "Python 3 (ipykernel)",
   "language": "python",
   "name": "python3"
  },
  "language_info": {
   "codemirror_mode": {
    "name": "ipython",
    "version": 3
   },
   "file_extension": ".py",
   "mimetype": "text/x-python",
   "name": "python",
   "nbconvert_exporter": "python",
   "pygments_lexer": "ipython3",
   "version": "3.9.7"
  }
 },
 "nbformat": 4,
 "nbformat_minor": 4
}
